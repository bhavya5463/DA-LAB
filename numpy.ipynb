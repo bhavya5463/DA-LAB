{
  "nbformat": 4,
  "nbformat_minor": 0,
  "metadata": {
    "colab": {
      "provenance": [],
      "authorship_tag": "ABX9TyPVsPsTqOjSXz6/H8xEx7pD",
      "include_colab_link": true
    },
    "kernelspec": {
      "name": "python3",
      "display_name": "Python 3"
    },
    "language_info": {
      "name": "python"
    }
  },
  "cells": [
    {
      "cell_type": "markdown",
      "metadata": {
        "id": "view-in-github",
        "colab_type": "text"
      },
      "source": [
        "<a href=\"https://colab.research.google.com/github/bhavya5463/DA-LAB/blob/da-lab/numpy.ipynb\" target=\"_parent\"><img src=\"https://colab.research.google.com/assets/colab-badge.svg\" alt=\"Open In Colab\"/></a>"
      ]
    },
    {
      "cell_type": "code",
      "execution_count": null,
      "metadata": {
        "colab": {
          "base_uri": "https://localhost:8080/"
        },
        "id": "Q7B4lFrBrb4i",
        "outputId": "b0d71c8d-dd40-44eb-d6a8-d0226ff62a28"
      },
      "outputs": [
        {
          "output_type": "stream",
          "name": "stdout",
          "text": [
            "[1 2 3]\n"
          ]
        }
      ],
      "source": [
        "import numpy as np\n",
        "arr=np.array([1,2,3])\n",
        "print(arr)"
      ]
    },
    {
      "cell_type": "code",
      "source": [
        "arr1=np.array([5,2,3,4],dtype=\"i\")\n",
        "print(arr1)\n",
        "print(arr1.dtype)"
      ],
      "metadata": {
        "colab": {
          "base_uri": "https://localhost:8080/"
        },
        "id": "HJGUewiesB7j",
        "outputId": "e7dff9a5-31f2-4eff-ee38-a8e2eb5b1943"
      },
      "execution_count": null,
      "outputs": [
        {
          "output_type": "stream",
          "name": "stdout",
          "text": [
            "[5 2 3 4]\n",
            "int32\n"
          ]
        }
      ]
    },
    {
      "cell_type": "code",
      "source": [
        "arr=np.array([1,2,3,4,5])\n",
        "print(arr.dtype)\n",
        "newarr=arr.astype(\"int16\")\n",
        "print(newarr.dtype)"
      ],
      "metadata": {
        "colab": {
          "base_uri": "https://localhost:8080/"
        },
        "id": "CFNL9WAhsdQy",
        "outputId": "28ab272b-dda3-4ebe-e1b2-f65fedfa35aa"
      },
      "execution_count": null,
      "outputs": [
        {
          "output_type": "stream",
          "name": "stdout",
          "text": [
            "int64\n",
            "int16\n"
          ]
        }
      ]
    },
    {
      "cell_type": "code",
      "source": [
        "#1-D Dimension \n",
        "arr=np.arange(10)\n",
        "print(arr)\n",
        "print(arr.shape)"
      ],
      "metadata": {
        "colab": {
          "base_uri": "https://localhost:8080/"
        },
        "id": "5upLbtTAt5LG",
        "outputId": "82c082b8-86bd-4ab0-860b-2bd5e5076dbe"
      },
      "execution_count": null,
      "outputs": [
        {
          "output_type": "stream",
          "name": "stdout",
          "text": [
            "[0 1 2 3 4 5 6 7 8 9]\n",
            "(10,)\n"
          ]
        }
      ]
    },
    {
      "cell_type": "code",
      "source": [
        "#2-D Dimensions\n",
        "arr=np.arange(20).reshape(4,5)\n",
        "print(arr)\n",
        "print(arr.shape)"
      ],
      "metadata": {
        "colab": {
          "base_uri": "https://localhost:8080/"
        },
        "id": "7lb52pLFuh3O",
        "outputId": "31a2e4bb-efde-4ded-dec0-601421c86a9b"
      },
      "execution_count": null,
      "outputs": [
        {
          "output_type": "stream",
          "name": "stdout",
          "text": [
            "[[ 0  1  2  3  4]\n",
            " [ 5  6  7  8  9]\n",
            " [10 11 12 13 14]\n",
            " [15 16 17 18 19]]\n",
            "(4, 5)\n"
          ]
        }
      ]
    },
    {
      "cell_type": "code",
      "source": [
        "print(np.zeros((2,4)))\n",
        "print(np.ones((3,6)))"
      ],
      "metadata": {
        "colab": {
          "base_uri": "https://localhost:8080/"
        },
        "id": "4-E3RqqkvcFk",
        "outputId": "89056626-8d17-4f98-973e-2e227b8bff5f"
      },
      "execution_count": null,
      "outputs": [
        {
          "output_type": "stream",
          "name": "stdout",
          "text": [
            "[[0. 0. 0. 0.]\n",
            " [0. 0. 0. 0.]]\n",
            "[[1. 1. 1. 1. 1. 1.]\n",
            " [1. 1. 1. 1. 1. 1.]\n",
            " [1. 1. 1. 1. 1. 1.]]\n"
          ]
        }
      ]
    },
    {
      "cell_type": "code",
      "source": [
        "print(np.empty((2,1)))\n",
        "print(np.full((1,2),100))"
      ],
      "metadata": {
        "colab": {
          "base_uri": "https://localhost:8080/"
        },
        "id": "Sp0kzlJfxdL_",
        "outputId": "c88dc746-c699-435e-fbbf-e86063a596c5"
      },
      "execution_count": null,
      "outputs": [
        {
          "output_type": "stream",
          "name": "stdout",
          "text": [
            "[[4.94e-322]\n",
            " [4.94e-322]]\n",
            "[[100 100]]\n"
          ]
        }
      ]
    },
    {
      "cell_type": "code",
      "source": [
        "print(np.eye(5,5))\n",
        "print(np.linspace(2,7,num=4))"
      ],
      "metadata": {
        "colab": {
          "base_uri": "https://localhost:8080/"
        },
        "id": "eZsFwvaN0B9B",
        "outputId": "f8670a80-f1a4-4777-a1fe-1936c4a46c78"
      },
      "execution_count": null,
      "outputs": [
        {
          "output_type": "stream",
          "name": "stdout",
          "text": [
            "[[1. 0. 0. 0. 0.]\n",
            " [0. 1. 0. 0. 0.]\n",
            " [0. 0. 1. 0. 0.]\n",
            " [0. 0. 0. 1. 0.]\n",
            " [0. 0. 0. 0. 1.]]\n",
            "[2.         3.66666667 5.33333333 7.        ]\n"
          ]
        }
      ]
    },
    {
      "cell_type": "code",
      "source": [
        "np.random.random((3,4))"
      ],
      "metadata": {
        "colab": {
          "base_uri": "https://localhost:8080/"
        },
        "id": "d-Z9g7M60yOB",
        "outputId": "e9eec546-a850-4291-a5a7-06a2c81ce179"
      },
      "execution_count": null,
      "outputs": [
        {
          "output_type": "execute_result",
          "data": {
            "text/plain": [
              "array([[0.12290274, 0.33383126, 0.24263245, 0.07186229],\n",
              "       [0.2820288 , 0.91207558, 0.74213476, 0.66570002],\n",
              "       [0.13648132, 0.39781117, 0.56760957, 0.21866044]])"
            ]
          },
          "metadata": {},
          "execution_count": 80
        }
      ]
    },
    {
      "cell_type": "code",
      "source": [
        "a=np.array(10)\n",
        "print(a)\n",
        "print(a.ndim)\n",
        "b=np.array([1,1,1])\n",
        "print(b)\n",
        "print(b.ndim)\n",
        "print(b.shape)\n",
        "c=np.array([[1,1,1],[2,2,2]])\n",
        "print(c)\n",
        "print(c.ndim)\n",
        "print(c.shape)\n",
        "d=np.array([[[1,1,1],[2,2,2]],[[3,3,3],[4,4,4]]])\n",
        "print(d)\n",
        "print(d.ndim)\n",
        "print(d.shape)"
      ],
      "metadata": {
        "colab": {
          "base_uri": "https://localhost:8080/"
        },
        "id": "aMEKehG221z5",
        "outputId": "96a6c498-0549-4962-a7b4-4b899d137bdc"
      },
      "execution_count": null,
      "outputs": [
        {
          "output_type": "stream",
          "name": "stdout",
          "text": [
            "10\n",
            "0\n",
            "[1 1 1]\n",
            "1\n",
            "(3,)\n",
            "[[1 1 1]\n",
            " [2 2 2]]\n",
            "2\n",
            "(2, 3)\n",
            "[[[1 1 1]\n",
            "  [2 2 2]]\n",
            "\n",
            " [[3 3 3]\n",
            "  [4 4 4]]]\n",
            "3\n",
            "(2, 2, 3)\n"
          ]
        }
      ]
    },
    {
      "cell_type": "code",
      "source": [
        "arr=np.array([1,1,1,1,1],ndmin=3)\n",
        "print(arr)\n",
        "print(arr.ndim)"
      ],
      "metadata": {
        "colab": {
          "base_uri": "https://localhost:8080/"
        },
        "id": "p3RsdsG5-5vm",
        "outputId": "9a41221b-d24a-4386-e014-87837f755eea"
      },
      "execution_count": null,
      "outputs": [
        {
          "output_type": "stream",
          "name": "stdout",
          "text": [
            "[[[1 1 1 1 1]]]\n",
            "3\n"
          ]
        }
      ]
    },
    {
      "cell_type": "code",
      "source": [
        "data=[[0.9876,-0.3456,-0.2456],[0.2578,0.6978,0.3654]]\n",
        "data"
      ],
      "metadata": {
        "colab": {
          "base_uri": "https://localhost:8080/"
        },
        "id": "E4lCSvxVBg0R",
        "outputId": "279ac022-24b8-4026-fb45-071ef05565be"
      },
      "execution_count": null,
      "outputs": [
        {
          "output_type": "execute_result",
          "data": {
            "text/plain": [
              "[[0.9876, -0.3456, -0.2456], [0.2578, 0.6978, 0.3654]]"
            ]
          },
          "metadata": {},
          "execution_count": 123
        }
      ]
    },
    {
      "cell_type": "code",
      "source": [
        "data * 10"
      ],
      "metadata": {
        "colab": {
          "base_uri": "https://localhost:8080/"
        },
        "id": "NgUd4duVC-71",
        "outputId": "95d3552c-66a5-4b1c-d2c9-01769c69f275"
      },
      "execution_count": null,
      "outputs": [
        {
          "output_type": "execute_result",
          "data": {
            "text/plain": [
              "[[0.9876, -0.3456, -0.2456],\n",
              " [0.2578, 0.6978, 0.3654],\n",
              " [0.9876, -0.3456, -0.2456],\n",
              " [0.2578, 0.6978, 0.3654],\n",
              " [0.9876, -0.3456, -0.2456],\n",
              " [0.2578, 0.6978, 0.3654],\n",
              " [0.9876, -0.3456, -0.2456],\n",
              " [0.2578, 0.6978, 0.3654],\n",
              " [0.9876, -0.3456, -0.2456],\n",
              " [0.2578, 0.6978, 0.3654],\n",
              " [0.9876, -0.3456, -0.2456],\n",
              " [0.2578, 0.6978, 0.3654],\n",
              " [0.9876, -0.3456, -0.2456],\n",
              " [0.2578, 0.6978, 0.3654],\n",
              " [0.9876, -0.3456, -0.2456],\n",
              " [0.2578, 0.6978, 0.3654],\n",
              " [0.9876, -0.3456, -0.2456],\n",
              " [0.2578, 0.6978, 0.3654],\n",
              " [0.9876, -0.3456, -0.2456],\n",
              " [0.2578, 0.6978, 0.3654]]"
            ]
          },
          "metadata": {},
          "execution_count": 124
        }
      ]
    }
  ]
}