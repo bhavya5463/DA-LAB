{
  "nbformat": 4,
  "nbformat_minor": 0,
  "metadata": {
    "colab": {
      "provenance": [],
      "authorship_tag": "ABX9TyNFMbB4fCybhm/w86yq/7Al",
      "include_colab_link": true
    },
    "kernelspec": {
      "name": "python3",
      "display_name": "Python 3"
    },
    "language_info": {
      "name": "python"
    }
  },
  "cells": [
    {
      "cell_type": "markdown",
      "metadata": {
        "id": "view-in-github",
        "colab_type": "text"
      },
      "source": [
        "<a href=\"https://colab.research.google.com/github/bhavya5463/DA-LAB/blob/da-lab/DATA_FRAMES_2.ipynb\" target=\"_parent\"><img src=\"https://colab.research.google.com/assets/colab-badge.svg\" alt=\"Open In Colab\"/></a>"
      ]
    },
    {
      "cell_type": "code",
      "execution_count": null,
      "metadata": {
        "colab": {
          "base_uri": "https://localhost:8080/"
        },
        "id": "pzSzwRglnsYb",
        "outputId": "747707ee-b92f-4d19-c6e6-7d4cda0fdfc2"
      },
      "outputs": [
        {
          "output_type": "stream",
          "name": "stdout",
          "text": [
            "   0  1  2\n",
            "0  1  2  3\n",
            "1  4  5  6\n",
            "2  7  8  9\n"
          ]
        }
      ],
      "source": [
        "#How to create a Dataframe\n",
        "#•\tCreating a DataFrame from a list of lists\n",
        "import pandas as pd\n",
        "a=[[1,2,3],[4,5,6],[7,8,9]]\n",
        "b=pd.DataFrame(a)\n",
        "print(b)"
      ]
    },
    {
      "cell_type": "code",
      "source": [
        "#•\tCreating a DataFrame from a dict of lists:\n",
        "a={'name':['bhavya','sai'],'no':[66,89]}\n",
        "b=pd.DataFrame(a)\n",
        "print(b)"
      ],
      "metadata": {
        "colab": {
          "base_uri": "https://localhost:8080/"
        },
        "id": "Wwy1CZY4qggF",
        "outputId": "00331225-26ca-4761-b329-e07db9b01a01"
      },
      "execution_count": null,
      "outputs": [
        {
          "output_type": "stream",
          "name": "stdout",
          "text": [
            "     name  no\n",
            "0  bhavya  66\n",
            "1     sai  89\n"
          ]
        }
      ]
    },
    {
      "cell_type": "code",
      "source": [
        "#•\tCreating an index DataFrame from a dict of lists:\n",
        "a={'name':['bhavya','sai'],'no':[66,89]}\n",
        "b=pd.DataFrame(a,index=['a','b'])\n",
        "print(b)"
      ],
      "metadata": {
        "colab": {
          "base_uri": "https://localhost:8080/"
        },
        "id": "CvQDfHnEs8X8",
        "outputId": "9ab665aa-5c13-4593-e308-11d9375e868c"
      },
      "execution_count": null,
      "outputs": [
        {
          "output_type": "stream",
          "name": "stdout",
          "text": [
            "     name  no\n",
            "a  bhavya  66\n",
            "b     sai  89\n"
          ]
        }
      ]
    },
    {
      "cell_type": "code",
      "source": [
        "#•\tCreating a DataFrame from a list of dicts\n",
        "a=[{1:'a',2:'b',3:'c'},{1:'d',2:'e',3:'f'}]\n",
        "b=pd.DataFrame(a)\n",
        "print(b)"
      ],
      "metadata": {
        "colab": {
          "base_uri": "https://localhost:8080/"
        },
        "id": "k77dqiivtzbd",
        "outputId": "4512824a-f64b-4678-a809-22523390b878"
      },
      "execution_count": null,
      "outputs": [
        {
          "output_type": "stream",
          "name": "stdout",
          "text": [
            "   1  2  3\n",
            "0  a  b  c\n",
            "1  d  e  f\n"
          ]
        }
      ]
    },
    {
      "cell_type": "code",
      "source": [
        "#•\tCreating a DataFrame from a list of dicts and specifying the row indices.\n",
        "a=[{1:'a',2:'b',3:'c'},{1:'d',2:'e',3:'f'}]\n",
        "b=pd.DataFrame(a,index=['row1','row2'])\n",
        "print(b)"
      ],
      "metadata": {
        "colab": {
          "base_uri": "https://localhost:8080/"
        },
        "id": "wqtLHDO6uZLx",
        "outputId": "c0359774-4453-4187-c39b-e84b7b330c7e"
      },
      "execution_count": null,
      "outputs": [
        {
          "output_type": "stream",
          "name": "stdout",
          "text": [
            "      1  2  3\n",
            "row1  a  b  c\n",
            "row2  d  e  f\n"
          ]
        }
      ]
    },
    {
      "cell_type": "code",
      "source": [
        "#•\tCreating a DataFrame from a list of dicts and specifying both the row indices and the column indices\n",
        "a=[{1:'a',2:'b',3:'c'},{1:'d',2:'e',3:'f'}]\n",
        "b=pd.DataFrame(a,index=['row1','row2'],columns=[1,2,3])\n",
        "print(b)"
      ],
      "metadata": {
        "colab": {
          "base_uri": "https://localhost:8080/"
        },
        "id": "yxAyqCBjutZ4",
        "outputId": "3f77dc8a-5360-4930-feaa-9ea57b6423ed"
      },
      "execution_count": null,
      "outputs": [
        {
          "output_type": "stream",
          "name": "stdout",
          "text": [
            "      1  2  3\n",
            "row1  a  b  c\n",
            "row2  d  e  f\n"
          ]
        }
      ]
    },
    {
      "cell_type": "code",
      "source": [
        "#•\tCreating a DataFrame from a list of tuples:\n",
        "a=[(1,2),(3,4),(5,6)]\n",
        "b=pd.DataFrame(a,columns=['a','b'])\n",
        "print(b)"
      ],
      "metadata": {
        "colab": {
          "base_uri": "https://localhost:8080/"
        },
        "id": "I7TL4kmxvMwZ",
        "outputId": "d5bb2710-6b26-4eab-8cbb-61e35607a19a"
      },
      "execution_count": null,
      "outputs": [
        {
          "output_type": "stream",
          "name": "stdout",
          "text": [
            "   a  b\n",
            "0  1  2\n",
            "1  3  4\n",
            "2  5  6\n"
          ]
        }
      ]
    },
    {
      "cell_type": "code",
      "source": [
        "#•\tCreating a DataFrame using the zip() function\n",
        "name=['sai','bhavya']\n",
        "age=['20','21']\n",
        "a=list(zip(name,age))\n",
        "b=pd.DataFrame(a,columns=['name','age'])\n",
        "print(b)"
      ],
      "metadata": {
        "colab": {
          "base_uri": "https://localhost:8080/"
        },
        "id": "5Mh6rWNwvlr2",
        "outputId": "5d6ba213-7692-46f2-daa7-65e471f5e2a0"
      },
      "execution_count": null,
      "outputs": [
        {
          "output_type": "stream",
          "name": "stdout",
          "text": [
            "     name age\n",
            "0     sai  20\n",
            "1  bhavya  21\n"
          ]
        }
      ]
    },
    {
      "cell_type": "code",
      "source": [
        "#•\tCreating an empty DataFrame\n",
        "df=pd.DataFrame()\n",
        "print(df)"
      ],
      "metadata": {
        "colab": {
          "base_uri": "https://localhost:8080/"
        },
        "id": "4WUVpxTuyRcD",
        "outputId": "1e4a5444-0bab-4d5d-8c62-1c41f09cc075"
      },
      "execution_count": null,
      "outputs": [
        {
          "output_type": "stream",
          "name": "stdout",
          "text": [
            "Empty DataFrame\n",
            "Columns: []\n",
            "Index: []\n"
          ]
        }
      ]
    },
    {
      "cell_type": "code",
      "source": [
        "#2. How to sort rows within a pandas dataframe\n",
        "students=[('bhavya',66),('anusha',87),('prathima',91),('bhavya',143)]\n",
        "df=pd.DataFrame(students,columns=['name','age'],index=['a','b','c','d'])\n",
        "print(df)\n",
        "print(\"after sorting\")\n",
        "res=df.sort_values(by='name')\n",
        "print(res)"
      ],
      "metadata": {
        "colab": {
          "base_uri": "https://localhost:8080/"
        },
        "id": "fWgQKjBkyclX",
        "outputId": "7bd8daea-c264-46bf-e9d7-3124cb25887b"
      },
      "execution_count": null,
      "outputs": [
        {
          "output_type": "stream",
          "name": "stdout",
          "text": [
            "       name  age\n",
            "a    bhavya   66\n",
            "b    anusha   87\n",
            "c  prathima   91\n",
            "d    bhavya  143\n",
            "after sorting\n",
            "       name  age\n",
            "b    anusha   87\n",
            "a    bhavya   66\n",
            "d    bhavya  143\n",
            "c  prathima   91\n"
          ]
        }
      ]
    },
    {
      "cell_type": "code",
      "source": [
        "#3. How to find the largest value in a pandas dataframe\n",
        "a=[[1,8,3],[7,2,5]]\n",
        "df=pd.DataFrame(a,columns=['col1','col2','col3'])\n",
        "print(df.max())\n",
        "print(df.min())"
      ],
      "metadata": {
        "colab": {
          "base_uri": "https://localhost:8080/"
        },
        "id": "J6BJDCJxz1_Q",
        "outputId": "0a7c03e8-6571-4e28-b850-8db5e77a4a14"
      },
      "execution_count": null,
      "outputs": [
        {
          "output_type": "stream",
          "name": "stdout",
          "text": [
            "col1    7\n",
            "col2    8\n",
            "col3    5\n",
            "dtype: int64\n",
            "col1    1\n",
            "col2    2\n",
            "col3    3\n",
            "dtype: int64\n"
          ]
        }
      ]
    },
    {
      "cell_type": "code",
      "source": [
        "#4. How to list unique value in a pandas dataframe\n",
        "students={'name':['bhavya','bhavya','prathima','harshi'],'age':[66,143,91,87]}\n",
        "df=pd.DataFrame(students,columns=['name','age'])\n",
        "print(df.name.unique())"
      ],
      "metadata": {
        "colab": {
          "base_uri": "https://localhost:8080/"
        },
        "id": "xyqavRnY1axZ",
        "outputId": "c26ba208-2a49-4026-c1f1-3a2c0e41f901"
      },
      "execution_count": null,
      "outputs": [
        {
          "output_type": "stream",
          "name": "stdout",
          "text": [
            "['bhavya' 'prathima' 'harshi']\n"
          ]
        }
      ]
    },
    {
      "cell_type": "code",
      "source": [
        "#5. How to delete duplicates from a pandas dataframe\n",
        "data={'name':['bhavya','prathima','anusha','harshi','prathima'],'no':[66,91,92,87,143]}\n",
        "df=pd.DataFrame(data)\n",
        "print(df)\n",
        "newdf=df.drop_duplicates()\n",
        "print(newdf)"
      ],
      "metadata": {
        "id": "K-1eADoP413G",
        "colab": {
          "base_uri": "https://localhost:8080/"
        },
        "outputId": "ecd8554c-b05f-4686-c24a-9479468a0082"
      },
      "execution_count": null,
      "outputs": [
        {
          "output_type": "stream",
          "name": "stdout",
          "text": [
            "       name   no\n",
            "0    bhavya   66\n",
            "1  prathima   91\n",
            "2    anusha   92\n",
            "3    harshi   87\n",
            "4  prathima  143\n",
            "       name   no\n",
            "0    bhavya   66\n",
            "1  prathima   91\n",
            "2    anusha   92\n",
            "3    harshi   87\n",
            "4  prathima  143\n"
          ]
        }
      ]
    },
    {
      "cell_type": "code",
      "source": [
        "#6. Rename column header in a pandas dataframes.\n",
        "import pandas as pd\n",
        "data={'name':['bhavya','prathima','anusha','harshi','prathima'],'no':[66,91,92,87,143]}\n",
        "df=pd.DataFrame(data)\n",
        "print(df)\n",
        "df1=df.rename(columns={'no':'registration_number','name':'NAME'})\n",
        "print(df1)"
      ],
      "metadata": {
        "colab": {
          "base_uri": "https://localhost:8080/"
        },
        "id": "LnA-Lm7ANWJV",
        "outputId": "84e8cb18-7ce8-49e5-90f0-1212a2afa8f0"
      },
      "execution_count": null,
      "outputs": [
        {
          "output_type": "stream",
          "name": "stdout",
          "text": [
            "       name   no\n",
            "0    bhavya   66\n",
            "1  prathima   91\n",
            "2    anusha   92\n",
            "3    harshi   87\n",
            "4  prathima  143\n",
            "       NAME  registration_number\n",
            "0    bhavya                   66\n",
            "1  prathima                   91\n",
            "2    anusha                   92\n",
            "3    harshi                   87\n",
            "4  prathima                  143\n"
          ]
        }
      ]
    },
    {
      "cell_type": "code",
      "source": [
        "#7. Search pandas dataframe for a value Note:The .where function helps to search a pandas dataframe for a value.\n",
        "import pandas as pd \n",
        "data={'name':['bhavya','prathima','anusha','harshi','prathima'],'no':[66,91,92,87,143]} \n",
        "df=pd.DataFrame(data) \n",
        "print(df) \n",
        "print(df['no'].where(df['name']=='bhavya'))"
      ],
      "metadata": {
        "colab": {
          "base_uri": "https://localhost:8080/"
        },
        "id": "iWG76cqBQIjw",
        "outputId": "392644a6-be3e-4346-f18f-dbc1c1ef6523"
      },
      "execution_count": null,
      "outputs": [
        {
          "output_type": "stream",
          "name": "stdout",
          "text": [
            "       name   no\n",
            "0    bhavya   66\n",
            "1  prathima   91\n",
            "2    anusha   92\n",
            "3    harshi   87\n",
            "4  prathima  143\n",
            "0    66.0\n",
            "1     NaN\n",
            "2     NaN\n",
            "3     NaN\n",
            "4     NaN\n",
            "Name: no, dtype: float64\n"
          ]
        }
      ]
    },
    {
      "cell_type": "code",
      "source": [
        "#8. Drop row and column in a pandas dataframe\n",
        "data={'name':['bhavya','prathima','anusha','harshi','prathima'],'no':[66,91,92,87,143]} \n",
        "df=pd.DataFrame(data) \n",
        "print(df) \n",
        "print(\"rows deletion\")\n",
        "print(df.drop([1,2],axis=0))\n",
        "print(\"column deletion\")\n",
        "print(df.drop(df.columns[[1]],axis=1))"
      ],
      "metadata": {
        "colab": {
          "base_uri": "https://localhost:8080/"
        },
        "id": "ex--byJNQZNE",
        "outputId": "d6882864-4aa3-40d1-a90b-c2b4bab32f11"
      },
      "execution_count": null,
      "outputs": [
        {
          "output_type": "stream",
          "name": "stdout",
          "text": [
            "       name   no\n",
            "0    bhavya   66\n",
            "1  prathima   91\n",
            "2    anusha   92\n",
            "3    harshi   87\n",
            "4  prathima  143\n",
            "rows deletion\n",
            "       name   no\n",
            "0    bhavya   66\n",
            "3    harshi   87\n",
            "4  prathima  143\n",
            "column deletion\n",
            "       name\n",
            "0    bhavya\n",
            "1  prathima\n",
            "2    anusha\n",
            "3    harshi\n",
            "4  prathima\n"
          ]
        }
      ]
    },
    {
      "cell_type": "code",
      "source": [
        "#9. How to filter in a pandas dataframe\n",
        "data={'name':['bhavya','prathima','anusha','harshi','prathima'],'no':[66,91,92,87,143]} \n",
        "df=pd.DataFrame(data) \n",
        "print(df)\n",
        "df[df['no']==66]\n",
        "\n",
        "print(df.iloc[0:2,0:1])\n",
        "print('using loc')\n",
        "print(df.loc[0:2,'name'])"
      ],
      "metadata": {
        "colab": {
          "base_uri": "https://localhost:8080/"
        },
        "id": "tQXQ3vQSRl5_",
        "outputId": "d9fbe1f2-a7b1-4a3a-e7e4-c811c0f8afd9"
      },
      "execution_count": null,
      "outputs": [
        {
          "output_type": "stream",
          "name": "stdout",
          "text": [
            "       name   no\n",
            "0    bhavya   66\n",
            "1  prathima   91\n",
            "2    anusha   92\n",
            "3    harshi   87\n",
            "4  prathima  143\n",
            "       name\n",
            "0    bhavya\n",
            "1  prathima\n",
            "using loc\n",
            "0      bhavya\n",
            "1    prathima\n",
            "2      anusha\n",
            "Name: name, dtype: object\n"
          ]
        }
      ]
    },
    {
      "cell_type": "code",
      "source": [
        "#10. How to calculate moving average in a pandas dataframe\n",
        "data={'name':['bhavya','prathima','anusha','harshi','prathima'],'no':[66,91,92,87,143]} \n",
        "df=pd.DataFrame(data) \n",
        "print(df)\n",
        "df['cumsum']=df['no'].cumsum()\n",
        "print(df)"
      ],
      "metadata": {
        "colab": {
          "base_uri": "https://localhost:8080/"
        },
        "id": "Th_D5TWuTDBJ",
        "outputId": "12e26650-d7ab-40c7-ba9c-e5c1db5871f6"
      },
      "execution_count": null,
      "outputs": [
        {
          "output_type": "stream",
          "name": "stdout",
          "text": [
            "       name   no\n",
            "0    bhavya   66\n",
            "1  prathima   91\n",
            "2    anusha   92\n",
            "3    harshi   87\n",
            "4  prathima  143\n",
            "       name   no  cumsum\n",
            "0    bhavya   66      66\n",
            "1  prathima   91     157\n",
            "2    anusha   92     249\n",
            "3    harshi   87     336\n",
            "4  prathima  143     479\n"
          ]
        }
      ]
    },
    {
      "cell_type": "code",
      "source": [
        "#11. How to normalise a column in a pandas dataframe"
      ],
      "metadata": {
        "id": "5XKWYfhATpbd"
      },
      "execution_count": null,
      "outputs": []
    },
    {
      "cell_type": "code",
      "source": [
        "#12. How to assign new columns in a pandas dataframe\n",
        "data={'name':['bhavya','prathima','anusha','harshi','prathima'],'no':[66,91,92,87,143]} \n",
        "df=pd.DataFrame(data)\n",
        "print(df)\n",
        "df['marks']=[20,80,67,94,58]\n",
        "print(df)"
      ],
      "metadata": {
        "colab": {
          "base_uri": "https://localhost:8080/"
        },
        "id": "vadljSElUKy2",
        "outputId": "a19ab925-92c5-4936-81eb-108839c5861e"
      },
      "execution_count": null,
      "outputs": [
        {
          "output_type": "stream",
          "name": "stdout",
          "text": [
            "       name   no\n",
            "0    bhavya   66\n",
            "1  prathima   91\n",
            "2    anusha   92\n",
            "3    harshi   87\n",
            "4  prathima  143\n",
            "       name   no  marks\n",
            "0    bhavya   66     20\n",
            "1  prathima   91     80\n",
            "2    anusha   92     67\n",
            "3    harshi   87     94\n",
            "4  prathima  143     58\n"
          ]
        }
      ]
    },
    {
      "cell_type": "code",
      "source": [
        "#13. How to rank a pandas dataframe in ascending and descending order\n",
        "data={'name':['bhavya','prathima','anusha','harshi','prathima'],'no':[66,91,92,87,143]} \n",
        "df=pd.DataFrame(data)\n",
        "print(df)\n",
        "df['rank']=df['no'].rank(ascending=False)\n",
        "print(df)"
      ],
      "metadata": {
        "colab": {
          "base_uri": "https://localhost:8080/"
        },
        "id": "cHYKy8neUidd",
        "outputId": "7dfb4d11-b436-4e74-861b-72fddd992f5f"
      },
      "execution_count": null,
      "outputs": [
        {
          "output_type": "stream",
          "name": "stdout",
          "text": [
            "       name   no\n",
            "0    bhavya   66\n",
            "1  prathima   91\n",
            "2    anusha   92\n",
            "3    harshi   87\n",
            "4  prathima  143\n",
            "       name   no  rank\n",
            "0    bhavya   66   5.0\n",
            "1  prathima   91   3.0\n",
            "2    anusha   92   2.0\n",
            "3    harshi   87   4.0\n",
            "4  prathima  143   1.0\n"
          ]
        }
      ]
    },
    {
      "cell_type": "code",
      "source": [
        "#14.Add row to a DataFrame\n",
        "data={'name':['bhavya','prathima','anusha','harshi','prathima'],'no':[66,91,92,87,143]} \n",
        "df=pd.DataFrame(data)\n",
        "print(df)\n",
        "df1=pd.DataFrame({'name':['lovely'],'no':[198]},index=[5])\n",
        "df1=df.append(df1)\n",
        "print(df1)"
      ],
      "metadata": {
        "colab": {
          "base_uri": "https://localhost:8080/"
        },
        "id": "7EwM_kFFVKw2",
        "outputId": "b3013e8d-30ad-4582-b9ae-35f6f4bceb08"
      },
      "execution_count": null,
      "outputs": [
        {
          "output_type": "stream",
          "name": "stdout",
          "text": [
            "       name   no\n",
            "0    bhavya   66\n",
            "1  prathima   91\n",
            "2    anusha   92\n",
            "3    harshi   87\n",
            "4  prathima  143\n",
            "       name   no\n",
            "0    bhavya   66\n",
            "1  prathima   91\n",
            "2    anusha   92\n",
            "3    harshi   87\n",
            "4  prathima  143\n",
            "5    lovely  198\n"
          ]
        }
      ]
    }
  ]
}