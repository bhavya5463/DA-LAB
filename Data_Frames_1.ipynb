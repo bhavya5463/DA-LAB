{
  "nbformat": 4,
  "nbformat_minor": 0,
  "metadata": {
    "colab": {
      "provenance": [],
      "authorship_tag": "ABX9TyP22GEeonWlVyn1MRj79SO5",
      "include_colab_link": true
    },
    "kernelspec": {
      "name": "python3",
      "display_name": "Python 3"
    },
    "language_info": {
      "name": "python"
    }
  },
  "cells": [
    {
      "cell_type": "markdown",
      "metadata": {
        "id": "view-in-github",
        "colab_type": "text"
      },
      "source": [
        "<a href=\"https://colab.research.google.com/github/bhavya5463/DA-LAB/blob/da-lab/Data_Frames_1.ipynb\" target=\"_parent\"><img src=\"https://colab.research.google.com/assets/colab-badge.svg\" alt=\"Open In Colab\"/></a>"
      ]
    },
    {
      "cell_type": "code",
      "execution_count": null,
      "metadata": {
        "colab": {
          "base_uri": "https://localhost:8080/"
        },
        "id": "K_vpLOWbX1UR",
        "outputId": "1ee866e9-f245-4557-ff4d-220417b0750b"
      },
      "outputs": [
        {
          "output_type": "stream",
          "name": "stdout",
          "text": [
            "0     2\n",
            "1     4\n",
            "2     6\n",
            "3     8\n",
            "4    10\n",
            "dtype: int64\n"
          ]
        }
      ],
      "source": [
        "#1.\tWrite a Pandas program to create and display a one-dimensional array-like object containing an array of data using Pandas module.\n",
        "import pandas as pd\n",
        "a=pd.Series([2,4,6,8,10])\n",
        "print(a)"
      ]
    },
    {
      "cell_type": "code",
      "source": [
        "#2.\tWrite a pandas program to convert a pandas module series to python list.\n",
        "a=pd.Series([10,20,30,40,50])\n",
        "print(a)\n",
        "print(type(a))\n",
        "b=a.tolist()\n",
        "print(type(b))"
      ],
      "metadata": {
        "colab": {
          "base_uri": "https://localhost:8080/"
        },
        "id": "ipSzSmJdY4fh",
        "outputId": "1334d4bc-5302-4671-97e9-a7de7d947813"
      },
      "execution_count": null,
      "outputs": [
        {
          "output_type": "stream",
          "name": "stdout",
          "text": [
            "0    10\n",
            "1    20\n",
            "2    30\n",
            "3    40\n",
            "4    50\n",
            "dtype: int64\n",
            "<class 'pandas.core.series.Series'>\n",
            "<class 'list'>\n"
          ]
        }
      ]
    },
    {
      "cell_type": "code",
      "source": [
        "#3.\tWrite a pandas program to add, subtract, multiple and divide two pandas series.\n",
        "l=pd.Series([1,2,3,4,5])\n",
        "l1=pd.Series([6,7,8,9,10])\n",
        "c=l+l1\n",
        "print(\"add:\",c)\n",
        "d=l-l1\n",
        "print(\"subtract:\",d)\n",
        "e=l*l1\n",
        "print(\"multiplication:\",e)\n",
        "f=l/l1\n",
        "print(\"division:\",f)"
      ],
      "metadata": {
        "colab": {
          "base_uri": "https://localhost:8080/"
        },
        "id": "K0nvO2PsZVX5",
        "outputId": "d61c04bc-a97e-4932-f83e-d4b32c42e17f"
      },
      "execution_count": null,
      "outputs": [
        {
          "output_type": "stream",
          "name": "stdout",
          "text": [
            "add: 0     7\n",
            "1     9\n",
            "2    11\n",
            "3    13\n",
            "4    15\n",
            "dtype: int64\n",
            "subtract: 0   -5\n",
            "1   -5\n",
            "2   -5\n",
            "3   -5\n",
            "4   -5\n",
            "dtype: int64\n",
            "multiplication: 0     6\n",
            "1    14\n",
            "2    24\n",
            "3    36\n",
            "4    50\n",
            "dtype: int64\n",
            "division: 0    0.166667\n",
            "1    0.285714\n",
            "2    0.375000\n",
            "3    0.444444\n",
            "4    0.500000\n",
            "dtype: float64\n"
          ]
        }
      ]
    },
    {
      "cell_type": "code",
      "source": [
        "#4.\tWrite a Pandas program to convert all the string values to upper, lower cases in a given pandas series. Also find the length of the string values.\n",
        "a=pd.Series(['a','b','c','X','Y','Z','ABC'])\n",
        "print(a.str.upper())\n",
        "print(a.str.lower())\n",
        "print(a.str.len())"
      ],
      "metadata": {
        "colab": {
          "base_uri": "https://localhost:8080/"
        },
        "id": "90ue32SyaAlJ",
        "outputId": "492cdf4c-1446-4e0a-eadf-957b8496549d"
      },
      "execution_count": null,
      "outputs": [
        {
          "output_type": "stream",
          "name": "stdout",
          "text": [
            "0      A\n",
            "1      B\n",
            "2      C\n",
            "3      X\n",
            "4      Y\n",
            "5      Z\n",
            "6    ABC\n",
            "dtype: object\n",
            "0      a\n",
            "1      b\n",
            "2      c\n",
            "3      x\n",
            "4      y\n",
            "5      z\n",
            "6    abc\n",
            "dtype: object\n",
            "0    1\n",
            "1    1\n",
            "2    1\n",
            "3    1\n",
            "4    1\n",
            "5    1\n",
            "6    3\n",
            "dtype: int64\n"
          ]
        }
      ]
    },
    {
      "cell_type": "code",
      "source": [
        "#5.\tWrite a Pandas program to remove whitespaces, left sided whitespaces and right sided whitespaces of the string values of a given pandas series\n",
        "color=pd.Index([' red ','pink ',' blue'])\n",
        "print(\"remove spaces\")\n",
        "a=color.str.strip()\n",
        "print(a)\n",
        "print(\"remove left spaces\")\n",
        "print(color.str.lstrip())\n",
        "print(\"remove right spaces\")\n",
        "c=color.str.rstrip()\n",
        "print(c)"
      ],
      "metadata": {
        "colab": {
          "base_uri": "https://localhost:8080/"
        },
        "id": "VUC9ZSs8a4V9",
        "outputId": "98165c6e-7a60-41d6-d53f-85e812414566"
      },
      "execution_count": null,
      "outputs": [
        {
          "output_type": "stream",
          "name": "stdout",
          "text": [
            "remove spaces\n",
            "Index(['red', 'pink', 'blue'], dtype='object')\n",
            "remove left spaces\n",
            "Index(['red ', 'pink ', 'blue'], dtype='object')\n",
            "remove right spaces\n",
            "Index([' red', 'pink', ' blue'], dtype='object')\n"
          ]
        }
      ]
    },
    {
      "cell_type": "code",
      "source": [
        "#6.\tWrite a Pandas program to create and display a DataFrame consist of student name, father name , mobile number as columns and register number as index.\n",
        "a={'name':['bhavya','vasu'],'father name':['ashok','teja'],'mobile':['9346653999','1234567899']}\n",
        "no=[66,34]\n",
        "df=pd.DataFrame(a,index=no)\n",
        "print(df)"
      ],
      "metadata": {
        "colab": {
          "base_uri": "https://localhost:8080/"
        },
        "id": "kC6NYkjubybh",
        "outputId": "e763b78e-5823-4ec9-cfa9-f1a5ed71352b"
      },
      "execution_count": null,
      "outputs": [
        {
          "output_type": "stream",
          "name": "stdout",
          "text": [
            "      name father name      mobile\n",
            "66  bhavya       ashok  9346653999\n",
            "34    vasu        teja  1234567899\n"
          ]
        }
      ]
    },
    {
      "cell_type": "code",
      "source": [
        "#7.\tWrite a Pandas program to get list from DataFrame column headers.\n",
        "print(list(df.columns.values))"
      ],
      "metadata": {
        "colab": {
          "base_uri": "https://localhost:8080/"
        },
        "id": "lTBKVLwJdCxQ",
        "outputId": "051f3f10-1b01-4d3b-adac-8bcf563dba55"
      },
      "execution_count": null,
      "outputs": [
        {
          "output_type": "stream",
          "name": "stdout",
          "text": [
            "['name', 'father name', 'mobile']\n"
          ]
        }
      ]
    },
    {
      "cell_type": "code",
      "source": [
        "#8.\tWrite a Pandas program to change the name of the student.\n",
        "print(df)\n",
        "df['name']=df['name'].replace('vasu','ravali')\n",
        "print(df)"
      ],
      "metadata": {
        "colab": {
          "base_uri": "https://localhost:8080/"
        },
        "id": "udE0Qi1UdjhV",
        "outputId": "36a883b8-0be4-470e-b108-bf7cb00818ae"
      },
      "execution_count": null,
      "outputs": [
        {
          "output_type": "stream",
          "name": "stdout",
          "text": [
            "      name father name      mobile\n",
            "66  bhavya       ashok  9346653999\n",
            "34    vasu        teja  1234567899\n",
            "      name father name      mobile\n",
            "66  bhavya       ashok  9346653999\n",
            "34  ravali        teja  1234567899\n"
          ]
        }
      ]
    },
    {
      "cell_type": "code",
      "source": [
        "#9.\tWrite a Pandas program to insert a new column “grade” in existing DataFrame\n",
        "grade=[4,7]\n",
        "df['grade']=grade\n",
        "print(df)"
      ],
      "metadata": {
        "colab": {
          "base_uri": "https://localhost:8080/"
        },
        "id": "wDCUsA48eCbN",
        "outputId": "65c57c83-e2be-4cda-af31-825188a1db4c"
      },
      "execution_count": null,
      "outputs": [
        {
          "output_type": "stream",
          "name": "stdout",
          "text": [
            "      name father name      mobile  grade\n",
            "66  bhavya       ashok  9346653999      4\n",
            "34  ravali        teja  1234567899      7\n"
          ]
        }
      ]
    },
    {
      "cell_type": "code",
      "source": [
        "#10.Write a pandas program to create and display a dataframe from a specified dictionary data which has the index labels.\n",
        "a={'name':['bhavya','sai','aasmika'],'number':['98764677','23445678','334556677']}\n",
        "labels=['a','b','c']\n",
        "b=pd.DataFrame(a,index=labels)\n",
        "print(b)"
      ],
      "metadata": {
        "id": "PAoL_VMbfrIr",
        "colab": {
          "base_uri": "https://localhost:8080/"
        },
        "outputId": "35f3e800-4939-4bb0-89af-fe735a4db8d6"
      },
      "execution_count": null,
      "outputs": [
        {
          "output_type": "stream",
          "name": "stdout",
          "text": [
            "      name     number\n",
            "a   bhavya   98764677\n",
            "b      sai   23445678\n",
            "c  aasmika  334556677\n"
          ]
        }
      ]
    }
  ]
}