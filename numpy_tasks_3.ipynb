{
  "nbformat": 4,
  "nbformat_minor": 0,
  "metadata": {
    "colab": {
      "provenance": [],
      "authorship_tag": "ABX9TyMdJbIZwn2BAZufQBjMXRFA",
      "include_colab_link": true
    },
    "kernelspec": {
      "name": "python3",
      "display_name": "Python 3"
    },
    "language_info": {
      "name": "python"
    }
  },
  "cells": [
    {
      "cell_type": "markdown",
      "metadata": {
        "id": "view-in-github",
        "colab_type": "text"
      },
      "source": [
        "<a href=\"https://colab.research.google.com/github/bhavya5463/DA-LAB/blob/da-lab/numpy_tasks_3.ipynb\" target=\"_parent\"><img src=\"https://colab.research.google.com/assets/colab-badge.svg\" alt=\"Open In Colab\"/></a>"
      ]
    },
    {
      "cell_type": "code",
      "execution_count": null,
      "metadata": {
        "colab": {
          "base_uri": "https://localhost:8080/"
        },
        "id": "HILJxMouoYBr",
        "outputId": "ad6f121e-bb54-4821-d602-70cd8a1695d6"
      },
      "outputs": [
        {
          "output_type": "stream",
          "name": "stdout",
          "text": [
            "[[ 7.4    0.7    0.    ...  0.56   9.4    5.   ]\n",
            " [ 7.8    0.88   0.    ...  0.68   9.8    5.   ]\n",
            " [ 7.8    0.76   0.04  ...  0.65   9.8    5.   ]\n",
            " ...\n",
            " [ 6.3    0.51   0.13  ...  0.75  11.     6.   ]\n",
            " [ 5.9    0.645  0.12  ...  0.71  10.2    5.   ]\n",
            " [ 6.     0.31   0.47  ...  0.66  11.     6.   ]]\n"
          ]
        }
      ],
      "source": [
        "import numpy as np\n",
        "wines=np.genfromtxt(\"/content/winequality-red.csv\",delimiter=\";\",skip_header=1)\n",
        "wines.dtype=\"float\"\n",
        "print(wines)"
      ]
    },
    {
      "cell_type": "code",
      "source": [
        "wines.shape"
      ],
      "metadata": {
        "colab": {
          "base_uri": "https://localhost:8080/"
        },
        "id": "72sDEbK_s2kb",
        "outputId": "701f7621-ee54-4228-abbe-4999ef14d29c"
      },
      "execution_count": null,
      "outputs": [
        {
          "output_type": "execute_result",
          "data": {
            "text/plain": [
              "(1599, 12)"
            ]
          },
          "metadata": {},
          "execution_count": 73
        }
      ]
    },
    {
      "cell_type": "code",
      "source": [
        "wines[2,3]"
      ],
      "metadata": {
        "colab": {
          "base_uri": "https://localhost:8080/"
        },
        "id": "YgCsXbGgtM95",
        "outputId": "5998d429-06f4-4374-c293-98cc663ecf42"
      },
      "execution_count": null,
      "outputs": [
        {
          "output_type": "execute_result",
          "data": {
            "text/plain": [
              "2.3"
            ]
          },
          "metadata": {},
          "execution_count": 74
        }
      ]
    },
    {
      "cell_type": "code",
      "source": [
        "wines[:3,3]"
      ],
      "metadata": {
        "colab": {
          "base_uri": "https://localhost:8080/"
        },
        "id": "6k9cbNl9upLA",
        "outputId": "1519d46e-928e-464d-fc14-b34c9cff1e4e"
      },
      "execution_count": null,
      "outputs": [
        {
          "output_type": "execute_result",
          "data": {
            "text/plain": [
              "array([1.9, 2.6, 2.3])"
            ]
          },
          "metadata": {},
          "execution_count": 75
        }
      ]
    },
    {
      "cell_type": "code",
      "source": [
        "wines[:,2]"
      ],
      "metadata": {
        "colab": {
          "base_uri": "https://localhost:8080/"
        },
        "id": "IchduYhfvs0v",
        "outputId": "2c402210-1004-4b19-9640-4e60dfc40eab"
      },
      "execution_count": null,
      "outputs": [
        {
          "output_type": "execute_result",
          "data": {
            "text/plain": [
              "array([0.  , 0.  , 0.04, ..., 0.13, 0.12, 0.47])"
            ]
          },
          "metadata": {},
          "execution_count": 76
        }
      ]
    },
    {
      "cell_type": "code",
      "source": [
        "wines[3,:]"
      ],
      "metadata": {
        "colab": {
          "base_uri": "https://localhost:8080/"
        },
        "id": "qkTGYIYGv5tv",
        "outputId": "77dc0ff7-50bc-4743-abc5-bc505be5def0"
      },
      "execution_count": null,
      "outputs": [
        {
          "output_type": "execute_result",
          "data": {
            "text/plain": [
              "array([11.2  ,  0.28 ,  0.56 ,  1.9  ,  0.075, 17.   , 60.   ,  0.998,\n",
              "        3.16 ,  0.58 ,  9.8  ,  6.   ])"
            ]
          },
          "metadata": {},
          "execution_count": 77
        }
      ]
    },
    {
      "cell_type": "code",
      "source": [
        "print(wines[1,5])\n",
        "wines[1,5]=10\n",
        "print(wines[1,5])"
      ],
      "metadata": {
        "colab": {
          "base_uri": "https://localhost:8080/"
        },
        "id": "0uoELuM4wVgC",
        "outputId": "2ed7a52b-4b7f-469b-d067-7e96b1652706"
      },
      "execution_count": null,
      "outputs": [
        {
          "output_type": "stream",
          "name": "stdout",
          "text": [
            "25.0\n",
            "10.0\n"
          ]
        }
      ]
    },
    {
      "cell_type": "code",
      "source": [
        "new_slice=wines[:,9]\n",
        "new_slice[:]=666\n",
        "print(new_slice)\n",
        "print(new_slice.shape)"
      ],
      "metadata": {
        "colab": {
          "base_uri": "https://localhost:8080/"
        },
        "id": "qpc-XJ8Nw3lT",
        "outputId": "fd287ab6-4a03-4d17-9cc4-548128ef5b17"
      },
      "execution_count": null,
      "outputs": [
        {
          "output_type": "stream",
          "name": "stdout",
          "text": [
            "[666. 666. 666. ... 666. 666. 666.]\n",
            "(1599,)\n"
          ]
        }
      ]
    },
    {
      "cell_type": "code",
      "source": [
        "print(wines)"
      ],
      "metadata": {
        "colab": {
          "base_uri": "https://localhost:8080/"
        },
        "id": "uJMCq_bMyKIR",
        "outputId": "9ded2db1-df4f-4989-a41f-55dd2d533175"
      },
      "execution_count": null,
      "outputs": [
        {
          "output_type": "stream",
          "name": "stdout",
          "text": [
            "[[7.40e+00 7.00e-01 0.00e+00 ... 6.66e+02 9.40e+00 5.00e+00]\n",
            " [7.80e+00 8.80e-01 0.00e+00 ... 6.66e+02 9.80e+00 5.00e+00]\n",
            " [7.80e+00 7.60e-01 4.00e-02 ... 6.66e+02 9.80e+00 5.00e+00]\n",
            " ...\n",
            " [6.30e+00 5.10e-01 1.30e-01 ... 6.66e+02 1.10e+01 6.00e+00]\n",
            " [5.90e+00 6.45e-01 1.20e-01 ... 6.66e+02 1.02e+01 5.00e+00]\n",
            " [6.00e+00 3.10e-01 4.70e-01 ... 6.66e+02 1.10e+01 6.00e+00]]\n"
          ]
        }
      ]
    },
    {
      "cell_type": "code",
      "source": [
        "wines.dtype=\"int\"\n",
        "print(wines.dtype)"
      ],
      "metadata": {
        "colab": {
          "base_uri": "https://localhost:8080/"
        },
        "id": "hNh81-ouyRC8",
        "outputId": "e5343900-9f0a-4467-8473-08b24b0a9441"
      },
      "execution_count": null,
      "outputs": [
        {
          "output_type": "stream",
          "name": "stdout",
          "text": [
            "int64\n"
          ]
        }
      ]
    },
    {
      "cell_type": "code",
      "source": [
        "wines.dtype=\"float\"\n",
        "wines[:,11]+=10\n",
        "print(wines[:,11])"
      ],
      "metadata": {
        "colab": {
          "base_uri": "https://localhost:8080/"
        },
        "id": "FuxiVXnEy-x5",
        "outputId": "09ad0357-3e18-4671-9fbd-512cf6a5ba97"
      },
      "execution_count": null,
      "outputs": [
        {
          "output_type": "stream",
          "name": "stdout",
          "text": [
            "[25. 25. 25. ... 26. 25. 26.]\n"
          ]
        }
      ]
    },
    {
      "cell_type": "code",
      "source": [
        "np.sum(wines)"
      ],
      "metadata": {
        "colab": {
          "base_uri": "https://localhost:8080/"
        },
        "id": "g5CGZPso1_10",
        "outputId": "9bcc60a7-fe41-49b3-9fea-7d825c8f174b"
      },
      "execution_count": null,
      "outputs": [
        {
          "output_type": "execute_result",
          "data": {
            "text/plain": [
              "1247931.40194"
            ]
          },
          "metadata": {},
          "execution_count": 89
        }
      ]
    },
    {
      "cell_type": "code",
      "source": [
        "np.sum(wines,axis=0)"
      ],
      "metadata": {
        "colab": {
          "base_uri": "https://localhost:8080/"
        },
        "id": "S_1qh4YU4MhE",
        "outputId": "69d4facb-440a-4384-e789-ebc5b17ba92a"
      },
      "execution_count": null,
      "outputs": [
        {
          "output_type": "execute_result",
          "data": {
            "text/plain": [
              "array([13303.1    ,   843.985  ,   433.29   ,  4059.55   ,   139.859  ,\n",
              "       25384.     , 74302.     ,  1593.79794,  5294.47   ,  1052.38   ,\n",
              "       16666.35   ,  9012.     ])"
            ]
          },
          "metadata": {},
          "execution_count": 93
        }
      ]
    },
    {
      "cell_type": "code",
      "source": [
        "b=np.sum(wines,axis=1)\n",
        "print(b)"
      ],
      "metadata": {
        "colab": {
          "base_uri": "https://localhost:8080/"
        },
        "id": "bmK5MXUI4dM2",
        "outputId": "e75b7e6a-367c-4850-ae37-7c970fe737ec"
      },
      "execution_count": null,
      "outputs": [
        {
          "output_type": "stream",
          "name": "stdout",
          "text": [
            "[ 74.5438  123.0548   99.699   ... 100.48174 105.21547  92.49249]\n"
          ]
        }
      ]
    },
    {
      "cell_type": "code",
      "source": [
        "wines[:,11]+wines[:,11]"
      ],
      "metadata": {
        "colab": {
          "base_uri": "https://localhost:8080/"
        },
        "id": "FunwpqwO5Gin",
        "outputId": "118ddf54-452d-4764-f418-b6404a53383c"
      },
      "execution_count": null,
      "outputs": [
        {
          "output_type": "execute_result",
          "data": {
            "text/plain": [
              "array([10., 10., 10., ..., 12., 10., 12.])"
            ]
          },
          "metadata": {},
          "execution_count": 108
        }
      ]
    },
    {
      "cell_type": "code",
      "source": [
        "wines[:,10]*wines[:,11]"
      ],
      "metadata": {
        "colab": {
          "base_uri": "https://localhost:8080/"
        },
        "id": "p0GU0mqG6Ibw",
        "outputId": "85b7f026-049b-402b-893c-5df58df7405e"
      },
      "execution_count": null,
      "outputs": [
        {
          "output_type": "execute_result",
          "data": {
            "text/plain": [
              "array([47., 49., 49., ..., 66., 51., 66.])"
            ]
          },
          "metadata": {},
          "execution_count": 98
        }
      ]
    },
    {
      "cell_type": "code",
      "source": [
        "wines[:,11]>5"
      ],
      "metadata": {
        "colab": {
          "base_uri": "https://localhost:8080/"
        },
        "id": "0ItrQVmM6vQo",
        "outputId": "dd15075e-ee40-4eaa-a731-36c1a3d72ae9"
      },
      "execution_count": null,
      "outputs": [
        {
          "output_type": "execute_result",
          "data": {
            "text/plain": [
              "array([False, False, False, ...,  True, False,  True])"
            ]
          },
          "metadata": {},
          "execution_count": 99
        }
      ]
    },
    {
      "cell_type": "code",
      "source": [
        "wines[:,11]==10"
      ],
      "metadata": {
        "colab": {
          "base_uri": "https://localhost:8080/"
        },
        "id": "8XaKtTiL6xvp",
        "outputId": "d2704c5e-d3dd-4e60-cb6f-723c82ccf5be"
      },
      "execution_count": null,
      "outputs": [
        {
          "output_type": "execute_result",
          "data": {
            "text/plain": [
              "array([False, False, False, ..., False, False, False])"
            ]
          },
          "metadata": {},
          "execution_count": 109
        }
      ]
    },
    {
      "cell_type": "code",
      "source": [
        "high_quality = wines[:,11] > 7\n",
        "wines[high_quality,:]"
      ],
      "metadata": {
        "colab": {
          "base_uri": "https://localhost:8080/"
        },
        "id": "PXpN3ERP7UD_",
        "outputId": "9ea5fd6c-10dd-481e-cc96-fbae3de480c4"
      },
      "execution_count": null,
      "outputs": [
        {
          "output_type": "execute_result",
          "data": {
            "text/plain": [
              "array([[7.9000e+00, 3.5000e-01, 4.6000e-01, 3.6000e+00, 7.8000e-02,\n",
              "        1.5000e+01, 3.7000e+01, 9.9730e-01, 3.3500e+00, 8.6000e-01,\n",
              "        1.2800e+01, 8.0000e+00],\n",
              "       [1.0300e+01, 3.2000e-01, 4.5000e-01, 6.4000e+00, 7.3000e-02,\n",
              "        5.0000e+00, 1.3000e+01, 9.9760e-01, 3.2300e+00, 8.2000e-01,\n",
              "        1.2600e+01, 8.0000e+00],\n",
              "       [5.6000e+00, 8.5000e-01, 5.0000e-02, 1.4000e+00, 4.5000e-02,\n",
              "        1.2000e+01, 8.8000e+01, 9.9240e-01, 3.5600e+00, 8.2000e-01,\n",
              "        1.2900e+01, 8.0000e+00],\n",
              "       [1.2600e+01, 3.1000e-01, 7.2000e-01, 2.2000e+00, 7.2000e-02,\n",
              "        6.0000e+00, 2.9000e+01, 9.9870e-01, 2.8800e+00, 8.2000e-01,\n",
              "        9.8000e+00, 8.0000e+00],\n",
              "       [1.1300e+01, 6.2000e-01, 6.7000e-01, 5.2000e+00, 8.6000e-02,\n",
              "        6.0000e+00, 1.9000e+01, 9.9880e-01, 3.2200e+00, 6.9000e-01,\n",
              "        1.3400e+01, 8.0000e+00],\n",
              "       [9.4000e+00, 3.0000e-01, 5.6000e-01, 2.8000e+00, 8.0000e-02,\n",
              "        6.0000e+00, 1.7000e+01, 9.9640e-01, 3.1500e+00, 9.2000e-01,\n",
              "        1.1700e+01, 8.0000e+00],\n",
              "       [1.0700e+01, 3.5000e-01, 5.3000e-01, 2.6000e+00, 7.0000e-02,\n",
              "        5.0000e+00, 1.6000e+01, 9.9720e-01, 3.1500e+00, 6.5000e-01,\n",
              "        1.1000e+01, 8.0000e+00],\n",
              "       [1.0700e+01, 3.5000e-01, 5.3000e-01, 2.6000e+00, 7.0000e-02,\n",
              "        5.0000e+00, 1.6000e+01, 9.9720e-01, 3.1500e+00, 6.5000e-01,\n",
              "        1.1000e+01, 8.0000e+00],\n",
              "       [5.0000e+00, 4.2000e-01, 2.4000e-01, 2.0000e+00, 6.0000e-02,\n",
              "        1.9000e+01, 5.0000e+01, 9.9170e-01, 3.7200e+00, 7.4000e-01,\n",
              "        1.4000e+01, 8.0000e+00],\n",
              "       [7.8000e+00, 5.7000e-01, 9.0000e-02, 2.3000e+00, 6.5000e-02,\n",
              "        3.4000e+01, 4.5000e+01, 9.9417e-01, 3.4600e+00, 7.4000e-01,\n",
              "        1.2700e+01, 8.0000e+00],\n",
              "       [9.1000e+00, 4.0000e-01, 5.0000e-01, 1.8000e+00, 7.1000e-02,\n",
              "        7.0000e+00, 1.6000e+01, 9.9462e-01, 3.2100e+00, 6.9000e-01,\n",
              "        1.2500e+01, 8.0000e+00],\n",
              "       [1.0000e+01, 2.6000e-01, 5.4000e-01, 1.9000e+00, 8.3000e-02,\n",
              "        4.2000e+01, 7.4000e+01, 9.9451e-01, 2.9800e+00, 6.3000e-01,\n",
              "        1.1800e+01, 8.0000e+00],\n",
              "       [7.9000e+00, 5.4000e-01, 3.4000e-01, 2.5000e+00, 7.6000e-02,\n",
              "        8.0000e+00, 1.7000e+01, 9.9235e-01, 3.2000e+00, 7.2000e-01,\n",
              "        1.3100e+01, 8.0000e+00],\n",
              "       [8.6000e+00, 4.2000e-01, 3.9000e-01, 1.8000e+00, 6.8000e-02,\n",
              "        6.0000e+00, 1.2000e+01, 9.9516e-01, 3.3500e+00, 6.9000e-01,\n",
              "        1.1700e+01, 8.0000e+00],\n",
              "       [5.5000e+00, 4.9000e-01, 3.0000e-02, 1.8000e+00, 4.4000e-02,\n",
              "        2.8000e+01, 8.7000e+01, 9.9080e-01, 3.5000e+00, 8.2000e-01,\n",
              "        1.4000e+01, 8.0000e+00],\n",
              "       [7.2000e+00, 3.3000e-01, 3.3000e-01, 1.7000e+00, 6.1000e-02,\n",
              "        3.0000e+00, 1.3000e+01, 9.9600e-01, 3.2300e+00, 1.1000e+00,\n",
              "        1.0000e+01, 8.0000e+00],\n",
              "       [7.2000e+00, 3.8000e-01, 3.1000e-01, 2.0000e+00, 5.6000e-02,\n",
              "        1.5000e+01, 2.9000e+01, 9.9472e-01, 3.2300e+00, 7.6000e-01,\n",
              "        1.1300e+01, 8.0000e+00],\n",
              "       [7.4000e+00, 3.6000e-01, 3.0000e-01, 1.8000e+00, 7.4000e-02,\n",
              "        1.7000e+01, 2.4000e+01, 9.9419e-01, 3.2400e+00, 7.0000e-01,\n",
              "        1.1400e+01, 8.0000e+00]])"
            ]
          },
          "metadata": {},
          "execution_count": 117
        }
      ]
    },
    {
      "cell_type": "code",
      "source": [
        "high_quality_and_alcohol = (wines[:,10] > 10) & (wines[:,11] > 7)\n",
        "wines[high_quality_and_alcohol,10:]"
      ],
      "metadata": {
        "colab": {
          "base_uri": "https://localhost:8080/"
        },
        "id": "fUtjkCD281xr",
        "outputId": "a2d5a90d-f5b8-4e92-d4a0-7c3f6be68f3b"
      },
      "execution_count": null,
      "outputs": [
        {
          "output_type": "execute_result",
          "data": {
            "text/plain": [
              "array([[12.8,  8. ],\n",
              "       [12.6,  8. ],\n",
              "       [12.9,  8. ],\n",
              "       [13.4,  8. ],\n",
              "       [11.7,  8. ],\n",
              "       [11. ,  8. ],\n",
              "       [11. ,  8. ],\n",
              "       [14. ,  8. ],\n",
              "       [12.7,  8. ],\n",
              "       [12.5,  8. ],\n",
              "       [11.8,  8. ],\n",
              "       [13.1,  8. ],\n",
              "       [11.7,  8. ],\n",
              "       [14. ,  8. ],\n",
              "       [11.3,  8. ],\n",
              "       [11.4,  8. ]])"
            ]
          },
          "metadata": {},
          "execution_count": 123
        }
      ]
    },
    {
      "cell_type": "code",
      "source": [
        "wines1=wines.reshape((12,1599))\n",
        "wines1.shape"
      ],
      "metadata": {
        "colab": {
          "base_uri": "https://localhost:8080/"
        },
        "id": "4WM3kNiw-xeS",
        "outputId": "7f715f01-5109-42c4-c41d-fe6fb2965462"
      },
      "execution_count": null,
      "outputs": [
        {
          "output_type": "execute_result",
          "data": {
            "text/plain": [
              "(12, 1599)"
            ]
          },
          "metadata": {},
          "execution_count": 142
        }
      ]
    }
  ]
}