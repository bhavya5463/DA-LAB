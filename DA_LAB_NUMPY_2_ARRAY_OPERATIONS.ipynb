{
  "nbformat": 4,
  "nbformat_minor": 0,
  "metadata": {
    "colab": {
      "provenance": [],
      "authorship_tag": "ABX9TyMx3QxNjPqylA9Mr+CapuHO",
      "include_colab_link": true
    },
    "kernelspec": {
      "name": "python3",
      "display_name": "Python 3"
    },
    "language_info": {
      "name": "python"
    }
  },
  "cells": [
    {
      "cell_type": "markdown",
      "metadata": {
        "id": "view-in-github",
        "colab_type": "text"
      },
      "source": [
        "<a href=\"https://colab.research.google.com/github/bhavya5463/DA-LAB/blob/da-lab/DA_LAB_NUMPY_2_ARRAY_OPERATIONS.ipynb\" target=\"_parent\"><img src=\"https://colab.research.google.com/assets/colab-badge.svg\" alt=\"Open In Colab\"/></a>"
      ]
    },
    {
      "cell_type": "code",
      "execution_count": null,
      "metadata": {
        "colab": {
          "base_uri": "https://localhost:8080/"
        },
        "id": "y5xkJ8g7v6n5",
        "outputId": "b7b5bd1a-2054-43b2-aee5-ae5b7e3084bd"
      },
      "outputs": [
        {
          "output_type": "stream",
          "name": "stdout",
          "text": [
            "[2 3 6 4 7]\n",
            "[0 1 4 2 5]\n",
            "1\n"
          ]
        }
      ],
      "source": [
        "import numpy as np\n",
        "\n",
        "a=np.array([1,2,5,3,6])\n",
        "print(a+1)\n",
        "print(a-1)\n",
        "print(a.ndim)"
      ]
    },
    {
      "cell_type": "code",
      "source": [
        "a=np.array([[1,2],[4,6]])\n",
        "print(a.ndim)\n",
        "b=np.array([[1,6],[2,3]])\n",
        "c=np.add(a,b)\n",
        "print(c)\n",
        "print(\"subtraction is:\")\n",
        "d=np.subtract(a,b)\n",
        "print(d)\n",
        "print(\"multiplication is:\")\n",
        "e=np.matmul(a,b)\n",
        "print(e)"
      ],
      "metadata": {
        "colab": {
          "base_uri": "https://localhost:8080/"
        },
        "id": "5e_6WDfzy4ni",
        "outputId": "0bd07673-b230-441f-879c-5054dedc7d16"
      },
      "execution_count": null,
      "outputs": [
        {
          "output_type": "stream",
          "name": "stdout",
          "text": [
            "2\n",
            "[[2 8]\n",
            " [6 9]]\n",
            "subtraction is:\n",
            "[[ 0 -4]\n",
            " [ 2  3]]\n",
            "multiplication is:\n",
            "[[ 5 12]\n",
            " [16 42]]\n"
          ]
        }
      ]
    },
    {
      "cell_type": "code",
      "source": [
        "#i)Create multi-dimensional arrays and find its shape and dimension\n",
        "a=np.array([[[1,2,3],[4,5,6]],[[7,8,9],[10,11,12]]])\n",
        "print(a.shape)\n",
        "print(a.ndim)"
      ],
      "metadata": {
        "colab": {
          "base_uri": "https://localhost:8080/"
        },
        "id": "81kdiBPE0tqO",
        "outputId": "61f0cad9-e086-40ee-d46b-5554745eeb10"
      },
      "execution_count": null,
      "outputs": [
        {
          "output_type": "stream",
          "name": "stdout",
          "text": [
            "(2, 2, 3)\n",
            "3\n"
          ]
        }
      ]
    },
    {
      "cell_type": "code",
      "source": [
        "#ii)\tCreate a matrix full of zeros and ones \n",
        "\n",
        "a=np.zeros((2,4))\n",
        "print(a)\n",
        "b=np.ones((2,3))\n",
        "print(b)"
      ],
      "metadata": {
        "colab": {
          "base_uri": "https://localhost:8080/"
        },
        "id": "0JsenI-E1mah",
        "outputId": "483895b5-ba2c-4d26-ba94-f0322bfa016f"
      },
      "execution_count": null,
      "outputs": [
        {
          "output_type": "stream",
          "name": "stdout",
          "text": [
            "[[0. 0. 0. 0.]\n",
            " [0. 0. 0. 0.]]\n",
            "[[1. 1. 1.]\n",
            " [1. 1. 1.]]\n"
          ]
        }
      ]
    },
    {
      "cell_type": "code",
      "source": [
        "#iii)\tReshape and flatten data in the array \n",
        "a=np.array([[1,2,3],[4,5,6]])\n",
        "print(a.shape)\n",
        "print(\"after reshape\")\n",
        "b=np.reshape(a,(3,2))\n",
        "print(b)\n",
        "print(\"after reshape size is :\",b.shape)\n",
        "\n",
        "c=a.flatten()\n",
        "print(c)\n",
        "print(c.shape)"
      ],
      "metadata": {
        "colab": {
          "base_uri": "https://localhost:8080/"
        },
        "id": "LhHxRJUI2OqU",
        "outputId": "56a4ac73-e477-4105-c39e-1b6b151a865c"
      },
      "execution_count": null,
      "outputs": [
        {
          "output_type": "stream",
          "name": "stdout",
          "text": [
            "(2, 3)\n",
            "after reshape\n",
            "[[1 2]\n",
            " [3 4]\n",
            " [5 6]]\n",
            "after reshape size is : (3, 2)\n",
            "[1 2 3 4 5 6]\n",
            "(6,)\n"
          ]
        }
      ]
    },
    {
      "cell_type": "code",
      "source": [
        "#iv)\tAppend data vertically and horizontally \n",
        "a=np.array([[1,2,3],[4,5,6]])\n",
        "b=np.array([[7,8,9],[10,11,12]])\n",
        "c=np.hstack((a,b))\n",
        "print(c)\n",
        "d=np.vstack((a,b))\n",
        "print(d)\n",
        "print(np.append(a,b,axis=1))\n",
        "print(np.append(a,b,axis=0))"
      ],
      "metadata": {
        "colab": {
          "base_uri": "https://localhost:8080/"
        },
        "id": "mciA44vh3mku",
        "outputId": "df168599-a071-42d7-b434-fbb30b3f847d"
      },
      "execution_count": null,
      "outputs": [
        {
          "output_type": "stream",
          "name": "stdout",
          "text": [
            "[[ 1  2  3  7  8  9]\n",
            " [ 4  5  6 10 11 12]]\n",
            "[[ 1  2  3]\n",
            " [ 4  5  6]\n",
            " [ 7  8  9]\n",
            " [10 11 12]]\n",
            "[[ 1  2  3  7  8  9]\n",
            " [ 4  5  6 10 11 12]]\n",
            "[[ 1  2  3]\n",
            " [ 4  5  6]\n",
            " [ 7  8  9]\n",
            " [10 11 12]]\n"
          ]
        }
      ]
    },
    {
      "cell_type": "code",
      "source": [
        "#v)\tApply indexing and slicing on array \n",
        "a=np.array([1,2,3])\n",
        "print(\"for 1D array index of a[2] is\",a[2])\n",
        "b=np.array([[1,2,3],[4,5,6]])\n",
        "print(\"for 2D array index is\",b[1,1])\n",
        "c=np.array([[[1,2,3],[4,5,6]],[[4,5,6],[1,2,3]]])\n",
        "print(\"for multidimension array index is\",c[1,0,1])\n",
        "\n",
        "print(\"slicing\")\n",
        "a=np.array([1,2,3,4,5])\n",
        "print(a[1])\n",
        "print(a[1:-1])\n",
        "print(a[:-1])"
      ],
      "metadata": {
        "colab": {
          "base_uri": "https://localhost:8080/"
        },
        "id": "lgnLKGlM4-8j",
        "outputId": "e0f05baf-2aaf-4d9b-a9a0-450879cf6f04"
      },
      "execution_count": null,
      "outputs": [
        {
          "output_type": "stream",
          "name": "stdout",
          "text": [
            "for 1D array index of a[2] is 3\n",
            "for 2D array index is 5\n",
            "for multidimension array index is 5\n",
            "slicing\n",
            "2\n",
            "[2 3 4]\n",
            "[1 2 3 4]\n"
          ]
        }
      ]
    },
    {
      "cell_type": "code",
      "source": [
        "#vi)\tUse statistical functions on array - Min, Max, Mean, Median and Standard Deviation \n",
        "a=np.array([[1,2,3],[9,4,7]])\n",
        "print(\"the maximum is:\",np.amax(a))\n",
        "print(\"the minimum is:\",np.amin(a))\n",
        "print(\"the mean is:\",np.mean(a))\n",
        "print(\"the median is:\",np.median(a))\n",
        "print(\"the standard deviation is:\",np.std(a))\n",
        "print(\"the vriance is:\",np.var(a))"
      ],
      "metadata": {
        "colab": {
          "base_uri": "https://localhost:8080/"
        },
        "id": "S4k2LmVe7vbD",
        "outputId": "f9231950-e6ed-4b5b-bdef-f1bc41b5110b"
      },
      "execution_count": null,
      "outputs": [
        {
          "output_type": "stream",
          "name": "stdout",
          "text": [
            "the maximum is: 9\n",
            "the minimum is: 1\n",
            "the mean is: 4.333333333333333\n",
            "the median is: 3.5\n",
            "the standard deviation is: 2.8087165910587863\n",
            "the vriance is: 7.88888888888889\n"
          ]
        }
      ]
    },
    {
      "cell_type": "code",
      "source": [
        "#vii)\tDot and matrix product of two arrays \n",
        "a=np.array([[1,2],[4,5]])\n",
        "b=np.array([[1,2],[4,5]])\n",
        "print(\"dot of two arrays is:\",np.dot(a,b))\n",
        "print(\"matrix product:\",a*b)"
      ],
      "metadata": {
        "colab": {
          "base_uri": "https://localhost:8080/"
        },
        "id": "-AuM3hIN-8eo",
        "outputId": "25b65b8f-6a02-4479-e8d0-47f015914b08"
      },
      "execution_count": null,
      "outputs": [
        {
          "output_type": "stream",
          "name": "stdout",
          "text": [
            "dot of two arrays is: [[ 9 12]\n",
            " [24 33]]\n",
            "matrix product: [[ 1  4]\n",
            " [16 25]]\n"
          ]
        }
      ]
    },
    {
      "cell_type": "code",
      "source": [
        "#viii)\tCompute the Eigen values of a matrix \n",
        "a=np.array([[1,2,3],[4,5,6],[7,8,9]])\n",
        "eig_val,eig_ves=np.linalg.eig(a)\n",
        "print(\"eigen values:\",eig_val)"
      ],
      "metadata": {
        "colab": {
          "base_uri": "https://localhost:8080/"
        },
        "id": "M_PoM9Zd_3iN",
        "outputId": "2a52827f-bbaa-4ea2-edce-f9cf194e86e7"
      },
      "execution_count": null,
      "outputs": [
        {
          "output_type": "stream",
          "name": "stdout",
          "text": [
            "eigen values: [ 1.61168440e+01 -1.11684397e+00 -1.30367773e-15]\n"
          ]
        }
      ]
    },
    {
      "cell_type": "code",
      "source": [
        "#ix)\tSolve a linear matrix equation such as 3 * x0 + x1 = 9, x0 + 2 * x1 = 8 \n",
        "a=[[3,1],[1,2]]\n",
        "b=[9,8]\n",
        "print(np.linalg.solve(a,b))"
      ],
      "metadata": {
        "colab": {
          "base_uri": "https://localhost:8080/"
        },
        "id": "ZV2iF_LlAk4T",
        "outputId": "05f2496c-34b5-4d6c-99f6-7dc04cebf677"
      },
      "execution_count": null,
      "outputs": [
        {
          "output_type": "stream",
          "name": "stdout",
          "text": [
            "[2. 3.]\n"
          ]
        }
      ]
    },
    {
      "cell_type": "code",
      "source": [
        "#x)\tCompute the multiplicative inverse of a matrix \n",
        "a=np.array([[1,2],[4,5]])\n",
        "print(np.linalg.inv(a))"
      ],
      "metadata": {
        "colab": {
          "base_uri": "https://localhost:8080/"
        },
        "id": "OLNy6D9QA1ha",
        "outputId": "c8aae661-26dc-46fe-bff6-e3c29d146570"
      },
      "execution_count": null,
      "outputs": [
        {
          "output_type": "stream",
          "name": "stdout",
          "text": [
            "[[-1.66666667  0.66666667]\n",
            " [ 1.33333333 -0.33333333]]\n"
          ]
        }
      ]
    },
    {
      "cell_type": "code",
      "source": [
        "#xi)\tCompute the rank of a matrix \n",
        "a=np.array([[1,2,3],[4,5,6],[7,8,9]])\n",
        "print(np.linalg.matrix_rank(a))"
      ],
      "metadata": {
        "colab": {
          "base_uri": "https://localhost:8080/"
        },
        "id": "dEt1vQEDBR6d",
        "outputId": "c70dcb80-351f-4b67-af8c-3770f8bde991"
      },
      "execution_count": null,
      "outputs": [
        {
          "output_type": "stream",
          "name": "stdout",
          "text": [
            "2\n"
          ]
        }
      ]
    },
    {
      "cell_type": "code",
      "source": [
        "#xiiCompute the determinant of an array\n",
        "a=np.array([[1,2,3],[10,6,3],[7,8,9]])\n",
        "print(np.linalg.det(a))"
      ],
      "metadata": {
        "colab": {
          "base_uri": "https://localhost:8080/"
        },
        "id": "SuP5XwEpBf--",
        "outputId": "9d731c44-4013-46dd-f44a-37462aeb163c"
      },
      "execution_count": null,
      "outputs": [
        {
          "output_type": "stream",
          "name": "stdout",
          "text": [
            "6.000000000000001\n"
          ]
        }
      ]
    }
  ]
}