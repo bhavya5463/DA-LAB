{
  "nbformat": 4,
  "nbformat_minor": 0,
  "metadata": {
    "colab": {
      "provenance": [],
      "authorship_tag": "ABX9TyNk6cz4OyUhJ+qzp5sr0F/w",
      "include_colab_link": true
    },
    "kernelspec": {
      "name": "python3",
      "display_name": "Python 3"
    },
    "language_info": {
      "name": "python"
    }
  },
  "cells": [
    {
      "cell_type": "markdown",
      "metadata": {
        "id": "view-in-github",
        "colab_type": "text"
      },
      "source": [
        "<a href=\"https://colab.research.google.com/github/bhavya5463/DA-LAB/blob/da-lab/NUMPY_EXAMPLES.ipynb\" target=\"_parent\"><img src=\"https://colab.research.google.com/assets/colab-badge.svg\" alt=\"Open In Colab\"/></a>"
      ]
    },
    {
      "cell_type": "code",
      "execution_count": null,
      "metadata": {
        "colab": {
          "base_uri": "https://localhost:8080/"
        },
        "id": "484dpszW73gP",
        "outputId": "5314def9-5a68-4af3-d280-809a06fd4a6a"
      },
      "outputs": [
        {
          "output_type": "stream",
          "name": "stdout",
          "text": [
            "1 dimension array\n",
            "[0 1 2]\n",
            "1\n",
            "2 dimension array\n",
            "[[0 1 2]\n",
            " [3 4 5]\n",
            " [6 7 8]]\n",
            "2\n",
            "3 dimension array\n",
            "[[[ 0  1  2]\n",
            "  [ 3  4  5]]\n",
            "\n",
            " [[ 6  7  8]\n",
            "  [ 9 10 11]]]\n",
            "3\n"
          ]
        }
      ],
      "source": [
        "#1. How to get 1, 2 or 3 dimension NumPy array?\n",
        "import numpy as np\n",
        "print(\"1 dimension array\")\n",
        "a=np.arange(3)\n",
        "print(a)\n",
        "print(a.ndim)\n",
        "print(\"2 dimension array\")\n",
        "b=np.arange(9).reshape((3,3))\n",
        "print(b)\n",
        "print(b.ndim)\n",
        "print(\"3 dimension array\")\n",
        "c=np.arange(12).reshape((2,2,3))\n",
        "print(c)\n",
        "print(c.ndim)"
      ]
    },
    {
      "cell_type": "code",
      "source": [
        "#2.\tHow to resize NumPy array?\n",
        "a=np.array([[1,2,3],[4,5,6]])\n",
        "a.resize(3,2)\n",
        "print(a)"
      ],
      "metadata": {
        "colab": {
          "base_uri": "https://localhost:8080/"
        },
        "id": "tkUmNlLw-tR5",
        "outputId": "a1e1e828-09d5-4c2b-90f7-3dc5faa48c69"
      },
      "execution_count": null,
      "outputs": [
        {
          "output_type": "stream",
          "name": "stdout",
          "text": [
            "[[1 2]\n",
            " [3 4]\n",
            " [5 6]]\n"
          ]
        }
      ]
    },
    {
      "cell_type": "code",
      "source": [
        "#3.\tHow to convert List or Tuple into NumPy array?\n",
        "l=[1,2,3,4]\n",
        "print(type(l))\n",
        "a=np.asarray(l)\n",
        "print(a)\n",
        "print(type(a))\n",
        "\n",
        "t=(1,4,3,7)\n",
        "print(type(t))\n",
        "b=np.asarray(t)\n",
        "print(b)\n",
        "print(type(b))"
      ],
      "metadata": {
        "colab": {
          "base_uri": "https://localhost:8080/"
        },
        "id": "siGLOw3F_-23",
        "outputId": "2995d70c-777e-4c74-87a8-0cfb6ce76b05"
      },
      "execution_count": null,
      "outputs": [
        {
          "output_type": "stream",
          "name": "stdout",
          "text": [
            "<class 'list'>\n",
            "[1 2 3 4]\n",
            "<class 'numpy.ndarray'>\n",
            "<class 'tuple'>\n",
            "[1 4 3 7]\n",
            "<class 'numpy.ndarray'>\n"
          ]
        }
      ]
    },
    {
      "cell_type": "code",
      "source": [
        "#4.How to create NumPy array using arange function?\n",
        "a=np.arange(9).reshape((3,3))\n",
        "print(a)"
      ],
      "metadata": {
        "colab": {
          "base_uri": "https://localhost:8080/"
        },
        "id": "6_DdF48LC7ZX",
        "outputId": "335d6bc3-f951-4458-996e-a170a837d900"
      },
      "execution_count": null,
      "outputs": [
        {
          "output_type": "stream",
          "name": "stdout",
          "text": [
            "Object `function` not found.\n",
            "[[0 1 2]\n",
            " [3 4 5]\n",
            " [6 7 8]]\n"
          ]
        }
      ]
    },
    {
      "cell_type": "code",
      "source": [
        "#5.\tHow to create NumPy arrays with linspace()?\n",
        "a=np.linspace(0,100,5)\n",
        "print(a)\n",
        "\n",
        "b=np.linspace(25,50,2)\n",
        "print(b)"
      ],
      "metadata": {
        "colab": {
          "base_uri": "https://localhost:8080/"
        },
        "id": "9NQrvkOPDArF",
        "outputId": "e048ba43-43f1-4553-99c7-b8329e0df393"
      },
      "execution_count": null,
      "outputs": [
        {
          "output_type": "stream",
          "name": "stdout",
          "text": [
            "[  0.  25.  50.  75. 100.]\n",
            "[25. 50.]\n"
          ]
        }
      ]
    },
    {
      "cell_type": "code",
      "source": [
        "#6.\tNumPy logspace array example\n",
        "a=np.logspace(2,6,num=5,base=2)\n",
        "print(a)\n",
        "\n",
        "b=np.logspace(4,5,num=3)\n",
        "print(b)"
      ],
      "metadata": {
        "colab": {
          "base_uri": "https://localhost:8080/"
        },
        "id": "Q6KiHAX3D5Ts",
        "outputId": "4fd4de42-95e6-42b7-e9c7-66870be7f09f"
      },
      "execution_count": null,
      "outputs": [
        {
          "output_type": "stream",
          "name": "stdout",
          "text": [
            "[ 4.  8. 16. 32. 64.]\n",
            "[ 10000.          31622.77660168 100000.        ]\n"
          ]
        }
      ]
    },
    {
      "cell_type": "code",
      "source": [
        "#7.\tNumPy Full array example\n",
        "a=np.full([3,3],66,dtype=int)\n",
        "print(a)\n",
        "\n",
        "b=np.full([4,4],7)\n",
        "print(b)"
      ],
      "metadata": {
        "colab": {
          "base_uri": "https://localhost:8080/"
        },
        "id": "yiCCvEKEFeOd",
        "outputId": "9b0f0bb1-6863-4a44-96f3-5b531714330e"
      },
      "execution_count": null,
      "outputs": [
        {
          "output_type": "stream",
          "name": "stdout",
          "text": [
            "[[66 66 66]\n",
            " [66 66 66]\n",
            " [66 66 66]]\n",
            "[[7 7 7 7]\n",
            " [7 7 7 7]\n",
            " [7 7 7 7]\n",
            " [7 7 7 7]]\n"
          ]
        }
      ]
    },
    {
      "cell_type": "code",
      "source": [
        "#8. NumPy Eye array example\n",
        "a=np.eye(2,k=1)\n",
        "print(a)\n",
        "\n",
        "b=np.eye(4,k=-1)\n",
        "print(b)\n",
        "\n",
        "c=np.eye(5,k=1)\n",
        "print(c)"
      ],
      "metadata": {
        "colab": {
          "base_uri": "https://localhost:8080/"
        },
        "id": "_R85oDotGaEm",
        "outputId": "380be925-d402-483b-db35-fa2bfb6268df"
      },
      "execution_count": null,
      "outputs": [
        {
          "output_type": "stream",
          "name": "stdout",
          "text": [
            "[[0. 1.]\n",
            " [0. 0.]]\n",
            "[[0. 0. 0. 0.]\n",
            " [1. 0. 0. 0.]\n",
            " [0. 1. 0. 0.]\n",
            " [0. 0. 1. 0.]]\n",
            "[[0. 1. 0. 0. 0.]\n",
            " [0. 0. 1. 0. 0.]\n",
            " [0. 0. 0. 1. 0.]\n",
            " [0. 0. 0. 0. 1.]\n",
            " [0. 0. 0. 0. 0.]]\n"
          ]
        }
      ]
    },
    {
      "cell_type": "code",
      "source": [
        "#9. NumPy generate random number array\n",
        "#Description:1. The np.random.rand method, generates an array with random numbers that are uniformly distributed between 0 and 1.\n",
        "a=np.random.rand(3,4)\n",
        "print(a)\n",
        "\n",
        "#2.The np.random.randn method, generates an array with random numbers that are normally distributed between 0 and 1.\n",
        "b=np.random.randn(2,2)\n",
        "print(b)\n",
        "\n",
        "#3.The np.random.randint method, generates an array with random  numbers that are uniformly distributed between 0 and given integer.\n",
        "c=np.random.randint(10,size=(3,3))\n",
        "print(c)"
      ],
      "metadata": {
        "colab": {
          "base_uri": "https://localhost:8080/"
        },
        "id": "_LKW3fcXHYsM",
        "outputId": "af2cf782-04b0-40f6-9e1a-464d3cf51f6c"
      },
      "execution_count": null,
      "outputs": [
        {
          "output_type": "stream",
          "name": "stdout",
          "text": [
            "[[0.04736947 0.2458409  0.69978098 0.03194819]\n",
            " [0.37615973 0.65590762 0.46968307 0.30112029]\n",
            " [0.42329413 0.44464338 0.85208656 0.21746927]]\n",
            "[[-0.91577576 -0.71433887]\n",
            " [-1.2878843  -0.62654661]]\n",
            "[[4 9 6]\n",
            " [7 0 3]\n",
            " [5 0 6]]\n"
          ]
        }
      ]
    },
    {
      "cell_type": "code",
      "source": [
        "#10.\tNumPy Identity and Diagonal Array Example\n",
        "#Note:The identity() function, generates square array with ones on the main diagonal whereas diag() function extract or construct diagonal array.\n",
        "a=np.identity(4)\n",
        "print(a)\n",
        "\n",
        "b=np.diag(np.arange(2,8,2))\n",
        "print(b)"
      ],
      "metadata": {
        "colab": {
          "base_uri": "https://localhost:8080/"
        },
        "id": "gc5EivhKMQhh",
        "outputId": "94b584e6-945a-4094-fd5b-54e79dc21415"
      },
      "execution_count": null,
      "outputs": [
        {
          "output_type": "stream",
          "name": "stdout",
          "text": [
            "[[1. 0. 0. 0.]\n",
            " [0. 1. 0. 0.]\n",
            " [0. 0. 1. 0.]\n",
            " [0. 0. 0. 1.]]\n",
            "[[2 0 0]\n",
            " [0 4 0]\n",
            " [0 0 6]]\n"
          ]
        }
      ]
    },
    {
      "cell_type": "code",
      "source": [
        "#11.\tNumPy Indexing in Multidimensional array\n",
        "#Note: Indexing in a 3-Dimensional Array is based on syntax: array3d[L,M,N] where L is the first index, M is the row no. and N is the column no.\n",
        "a=np.array([[[1,2,3],[4,5,6]],[[7,8,9],[10,11,12]]])\n",
        "print(a)\n",
        "print(a[1,0,2])"
      ],
      "metadata": {
        "colab": {
          "base_uri": "https://localhost:8080/"
        },
        "id": "065vwfT2Nt-Y",
        "outputId": "7a43f63a-56bc-46f5-badf-6dfd71118b09"
      },
      "execution_count": null,
      "outputs": [
        {
          "output_type": "stream",
          "name": "stdout",
          "text": [
            "[[[ 1  2  3]\n",
            "  [ 4  5  6]]\n",
            "\n",
            " [[ 7  8  9]\n",
            "  [10 11 12]]]\n",
            "9\n"
          ]
        }
      ]
    },
    {
      "cell_type": "code",
      "source": [
        "#12.\tNumPy Single Dimensional Slicing Examples\n",
        "a=np.array([1,2,3,4,5])\n",
        "print(a[4])"
      ],
      "metadata": {
        "colab": {
          "base_uri": "https://localhost:8080/"
        },
        "id": "GrNOv5gPQXvZ",
        "outputId": "cdb2842d-c2f6-4546-baeb-240d98774389"
      },
      "execution_count": null,
      "outputs": [
        {
          "output_type": "stream",
          "name": "stdout",
          "text": [
            "5\n"
          ]
        }
      ]
    },
    {
      "cell_type": "code",
      "source": [
        "#13.\tMultidimensional Slicing in NumPy Array\n",
        "a=np.array([[[1,2,3],[4,5,6]],[[7,8,9],[10,11,12]]])\n",
        "print(a)\n",
        "print(\"to select sub array\")\n",
        "print(a[0])\n",
        "print(\"to select row\")\n",
        "print(a[0][1])\n",
        "print(\"to select particular element\")\n",
        "print(a[0][1][2])"
      ],
      "metadata": {
        "colab": {
          "base_uri": "https://localhost:8080/"
        },
        "id": "kDpmKUVDQrUK",
        "outputId": "20b99676-5677-4962-d7a2-2310e57b315b"
      },
      "execution_count": null,
      "outputs": [
        {
          "output_type": "stream",
          "name": "stdout",
          "text": [
            "[[[ 1  2  3]\n",
            "  [ 4  5  6]]\n",
            "\n",
            " [[ 7  8  9]\n",
            "  [10 11 12]]]\n",
            "to select sub array\n",
            "[[1 2 3]\n",
            " [4 5 6]]\n",
            "to select row\n",
            "[4 5 6]\n",
            "to select particular element\n",
            "6\n"
          ]
        }
      ]
    },
    {
      "cell_type": "code",
      "source": [
        "#14.\tFlips the order of the axes of an NumPy Array\n",
        "#The transpose function transpose also exists as a method in ndarray and it permute the dimensions of an array. \n",
        "import numpy as np\n",
        "a=np.array([[1,2],[3,4],[5,6]])\n",
        "atrans=np.transpose(a)\n",
        "print(a)\n",
        "#The fliplr (flip left-right) and flipud (flip up-down) functions perform operations that are similar to the transpose and the shape of the output array is the same as the input. \n",
        "print(\"flip left right\")\n",
        "b=np.fliplr(a)\n",
        "print(b)\n",
        "print(\"flip up down\")\n",
        "c=np.flipud(a)\n",
        "print(c)\n",
        "#The fliplr flip an array in the left/right direction. The flipud flip an array in the up/down direction. The rot90 Rotate an array by 90 degrees in the plane specified by axes and the rotation direction is from the first towards the second axis.\n",
        "print(\"rotate 90\")\n",
        "d=np.rot90(a)\n",
        "print(d)"
      ],
      "metadata": {
        "id": "STk4QKzPRb3B",
        "colab": {
          "base_uri": "https://localhost:8080/"
        },
        "outputId": "c8af0b82-0df9-47b9-cab9-ca0318fa59b7"
      },
      "execution_count": null,
      "outputs": [
        {
          "output_type": "stream",
          "name": "stdout",
          "text": [
            "[[1 2]\n",
            " [3 4]\n",
            " [5 6]]\n",
            "flip left right\n",
            "[[2 1]\n",
            " [4 3]\n",
            " [6 5]]\n",
            "flip up down\n",
            "[[5 6]\n",
            " [3 4]\n",
            " [1 2]]\n",
            "rotate 90\n",
            "[[2 4 6]\n",
            " [1 3 5]]\n"
          ]
        }
      ]
    },
    {
      "cell_type": "code",
      "source": [
        "#15)Joining and Stacking of NumPy arrays\n",
        "#NumPy uses the concept of stacking and provide a number of functions to perform: vertical stacking(row wise) using vstack(), horizontal stacking(column wise) using hstack() and depth wise stacking(along third axis) using dstack(). \n",
        "a=np.array([1,2,3])\n",
        "b=np.array([4,5,6])\n",
        "c=np.hstack((a,b))\n",
        "print(c)\n",
        "d=np.vstack((a,b))\n",
        "print(d)\n",
        "e=np.dstack((a,b))\n",
        "print(e)\n",
        "f=np.append(a,b)\n",
        "print(f)\n",
        "g=np.concatenate((a,b))\n",
        "print(g)"
      ],
      "metadata": {
        "colab": {
          "base_uri": "https://localhost:8080/"
        },
        "id": "jTVYEQKHwVM_",
        "outputId": "30ad92ab-0e88-4f06-ea9d-b4412b68dc4e"
      },
      "execution_count": null,
      "outputs": [
        {
          "output_type": "stream",
          "name": "stdout",
          "text": [
            "[1 2 3 4 5 6]\n",
            "[[1 2 3]\n",
            " [4 5 6]]\n",
            "[[[1 4]\n",
            "  [2 5]\n",
            "  [3 6]]]\n",
            "[1 2 3 4 5 6]\n",
            "[1 2 3 4 5 6]\n"
          ]
        }
      ]
    },
    {
      "cell_type": "code",
      "source": [
        "#16.\tNumPy Elementary Mathematical Functions\n",
        "#These mathematical functions takes a single array of any dimension as input and returns a new array of the same shape.\n",
        "a=np.sin(30*np.pi/180)\n",
        "print(\"sin value is:\",a)\n",
        "b=np.cos(60*np.pi/180)\n",
        "print(\"cos is:\",b)\n",
        "c=np.tan(45)\n",
        "print(\"tan value:\",c)\n",
        "\n",
        "d=np.arcsin(1)\n",
        "print(\"sin inverse is:\",d)\n",
        "e=np.arccos(0.5)\n",
        "print(\"cos inverse is:\",e)\n",
        "f=np.arctan(1)\n",
        "print(\"tan inverse is:\",f)\n",
        "\n",
        "g=np.cosh(0)\n",
        "print(\"hyperbolic fdunction:\",g)\n",
        "h=np.sinh(0)\n",
        "print(\"sin hyperbolic is:\",h)\n",
        "i=np.tanh(1)\n",
        "print(\"tan hyperbolic function is:\",i)\n",
        "\n",
        "j=np.arccosh(1)\n",
        "print(\"inverse of cos hyperbolic function:\",j)\n",
        "in_array = [2, 1, 10, 100]  \n",
        "arccosh_Values = np.arccosh(in_array)\n",
        "print (\"\\nInverse hyperbolic Cosine values : \\n\", arccosh_Values)\n",
        "in_array =np.array([0,-0.5])\n",
        "arctanh_Values = np.arctanh(in_array)\n",
        "print (\"\\nInverse hyperbolic Cosine values : \\n\", arctanh_Values)\n",
        "\n",
        "x=np.sqrt([81,16,36])\n",
        "print(\"squareroot of number is:\",x)\n",
        "\n",
        "y=np.exp([1,2,3])\n",
        "print(\"exponential is:\",y)\n",
        "\n",
        "print(\"logarithms\")\n",
        "z=np.log([1,10])\n",
        "print(z)\n",
        "u=np.log2([2,4,8])\n",
        "print(u)\n",
        "v=np.log10([10,100,100000])\n",
        "print(v)"
      ],
      "metadata": {
        "colab": {
          "base_uri": "https://localhost:8080/"
        },
        "id": "jK3VA1GOzeW5",
        "outputId": "c9ffd448-737c-4747-eab6-bad172c91bf8"
      },
      "execution_count": null,
      "outputs": [
        {
          "output_type": "stream",
          "name": "stdout",
          "text": [
            "sin value is: 0.49999999999999994\n",
            "cos is: 0.5000000000000001\n",
            "tan value: 1.6197751905438615\n",
            "sin inverse is: 1.5707963267948966\n",
            "cos inverse is: 1.0471975511965979\n",
            "tan inverse is: 0.7853981633974483\n",
            "hyperbolic fdunction: 1.0\n",
            "sin hyperbolic is: 0.0\n",
            "tan hyperbolic function is: 0.7615941559557649\n",
            "inverse of cos hyperbolic function: 0.0\n",
            "\n",
            "Inverse hyperbolic Cosine values : \n",
            " [1.3169579  0.         2.99322285 5.29829237]\n",
            "\n",
            "Inverse hyperbolic Cosine values : \n",
            " [ 0.         -0.54930614]\n",
            "squareroot of number is: [9. 4. 6.]\n",
            "exponential is: [ 2.71828183  7.3890561  20.08553692]\n",
            "logarithms\n",
            "[0.         2.30258509]\n",
            "[1. 2. 3.]\n",
            "[1. 2. 5.]\n"
          ]
        }
      ]
    },
    {
      "cell_type": "code",
      "source": [
        "#17.\tNumPy Element Wise Mathematical Operations\n",
        "a=np.array([4,5,6])\n",
        "b=np.array([1,2,3])\n",
        "c=np.add(a,b)\n",
        "print(\"addition is\",c)\n",
        "d=np.subtract(a,b)\n",
        "print(\"subtraction is:\",d)\n",
        "e=np.multiply(a,b)\n",
        "print(\"multiplication is:\",e)\n",
        "f=np.divide(a,b)\n",
        "print(\"division is:\",f)\n",
        "\n",
        "g=np.power(a,b)\n",
        "print(\"power is:\",g)\n",
        "\n",
        "h=np.remainder(a,b)\n",
        "print(\"remainder is:\",h)\n",
        "\n",
        "i=np.reciprocal(a)\n",
        "print(\"reciprocal is:\",i)\n",
        "\n",
        "c=np.array([-1,4,-6])\n",
        "j=np.sign(c)\n",
        "print(\"sign is:\",j)\n",
        "k=np.abs([-0.67,3.78])\n",
        "print(\"absolute is:\",k)\n",
        "\n",
        "l=np.ceil([-1.5,-3.7,0.5,2.8])\n",
        "print(\"ceil is:\",l)\n",
        "m=np.floor([-1.5,-3.7,0.5,2.8])\n",
        "print(\"floor is:\",m)\n",
        "\n",
        "n=np.round([0.5,0.3,5.8,5.3])\n",
        "print(\"round is :\",n)"
      ],
      "metadata": {
        "colab": {
          "base_uri": "https://localhost:8080/"
        },
        "id": "sCNPQ7QfIxve",
        "outputId": "72fec01c-6b70-4b14-c3c2-93ff316b0e9d"
      },
      "execution_count": null,
      "outputs": [
        {
          "output_type": "stream",
          "name": "stdout",
          "text": [
            "addition is [5 7 9]\n",
            "subtraction is: [3 3 3]\n",
            "multiplication is: [ 4 10 18]\n",
            "division is: [4.  2.5 2. ]\n",
            "power is: [  4  25 216]\n",
            "remainder is: [0 1 0]\n",
            "reciprocal is: [0 0 0]\n",
            "sign is: [-1  1 -1]\n",
            "absolute is: [0.67 3.78]\n",
            "ceil is: [-1. -3.  1.  3.]\n",
            "floor is: [-2. -4.  0.  2.]\n",
            "round is : [0. 0. 6. 5.]\n"
          ]
        }
      ]
    },
    {
      "cell_type": "code",
      "source": [
        "#18.\tNumPy Aggregate and Statistical Functions\n",
        "a=np.array([1,2,3,4,5])\n",
        "b=np.mean(a)\n",
        "print(\"mean:\",b)\n",
        "\n",
        "c=np.std(a)\n",
        "print(\"standard deviation :\",c)\n",
        "\n",
        "d=np.var(a)\n",
        "print(\"variance :\",d)\n",
        "\n",
        "e=np.sum(a)\n",
        "print(\"sum of elments :\",e)\n",
        "\n",
        "f=np.prod(a)\n",
        "print(\"product :\",f)\n",
        "\n",
        "g=np.cumsum(a)\n",
        "print(\"cummulative sum :\",g)\n",
        "\n",
        "h=np.cumprod(a)\n",
        "print(\"cummulative product:\",h)\n",
        "\n",
        "i=np.min(a)\n",
        "j=np.max(a)\n",
        "print(\"minimum and maximum value of an array:\",i,j)\n",
        "\n",
        "k=np.argmin(a)\n",
        "l=np.argmax(a)\n",
        "print(\"indices of the minimum and maximum value:\",k,l)\n",
        "\n",
        "m=np.array([[1,0],[3,4]])\n",
        "n=np.all(m,axis=0)\n",
        "print(n)\n",
        "o=np.all(m,axis=1)\n",
        "print(o)\n",
        "\n",
        "t=np.array([1,3,0,5])\n",
        "p=np.any(t)\n",
        "print(p)"
      ],
      "metadata": {
        "colab": {
          "base_uri": "https://localhost:8080/"
        },
        "id": "ykl1jI1MlEmi",
        "outputId": "bb58e303-d316-4499-bc90-006c896c73fc"
      },
      "execution_count": null,
      "outputs": [
        {
          "output_type": "stream",
          "name": "stdout",
          "text": [
            "mean: 3.0\n",
            "standard deviation : 1.4142135623730951\n",
            "variance : 2.0\n",
            "sum of elments : 15\n",
            "product : 120\n",
            "cummulative sum : [ 1  3  6 10 15]\n",
            "cummulative product: [  1   2   6  24 120]\n",
            "minimum and maximum value of an array: 1 5\n",
            "indices of the minimum and maximum value: 0 4\n",
            "[ True False]\n",
            "[False  True]\n",
            "True\n"
          ]
        }
      ]
    },
    {
      "cell_type": "code",
      "source": [
        "#19.\tNumPy Example of Where function\n",
        "#Description:The where() function is used to chooses values from arrays depending on the value of a specific condition.\n",
        "a=np.arange(10)\n",
        "b=np.where(a>5,a,a*10)\n",
        "print(b)\n",
        "\n",
        "c=np.array([[1,2,3],[4,5,6],[7,8,9]])\n",
        "np.where(c>3,c,0)"
      ],
      "metadata": {
        "colab": {
          "base_uri": "https://localhost:8080/"
        },
        "id": "VxM1Kp476ui7",
        "outputId": "e2484e06-788d-4f47-c2b4-f43b2aed2176"
      },
      "execution_count": null,
      "outputs": [
        {
          "output_type": "stream",
          "name": "stdout",
          "text": [
            "[ 0 10 20 30 40 50  6  7  8  9]\n"
          ]
        },
        {
          "output_type": "execute_result",
          "data": {
            "text/plain": [
              "array([[0, 0, 0],\n",
              "       [4, 5, 6],\n",
              "       [7, 8, 9]])"
            ]
          },
          "metadata": {},
          "execution_count": 61
        }
      ]
    },
    {
      "cell_type": "code",
      "source": [
        "#20.NumPy Example of Select function\n",
        "#Description:The select() function return an array drawn from elements in choice list, depending on conditions.\n",
        "a=np.arange(9)\n",
        "condlist=[a>=5,a<5]\n",
        "choicelist=[a,a**2]\n",
        "b=np.select(condlist,choicelist)\n",
        "print(b)"
      ],
      "metadata": {
        "colab": {
          "base_uri": "https://localhost:8080/"
        },
        "id": "BH-LYhEs8c-Y",
        "outputId": "1557eb43-676e-444a-85f7-ff82e4d5542e"
      },
      "execution_count": null,
      "outputs": [
        {
          "output_type": "stream",
          "name": "stdout",
          "text": [
            "[ 0  1  4  9 16  5  6  7  8]\n"
          ]
        }
      ]
    },
    {
      "cell_type": "code",
      "source": [
        "#21.\tNumPy Logical operations for selectively picking values from an array depending on a given condition\n",
        "#Note:logical_or computes the truth value of x1 OR x2 element-wise. \n",
        "#logical_and computes the truth value of x1 AND x2 element-wise.\n",
        "#logical_or computes the truth value of NOT x element-wise.\n",
        "x=np.arange(4)\n",
        "a=np.logical_and(x>1,x<4)\n",
        "print(a)\n",
        "\n",
        "b=np.logical_or(x>1,x<4)\n",
        "print(b)\n",
        "\n",
        "c=np.logical_not(x>1)\n",
        "print(c)"
      ],
      "metadata": {
        "colab": {
          "base_uri": "https://localhost:8080/"
        },
        "id": "rPMaIF3DBpQB",
        "outputId": "fb2d0544-711e-4d07-8167-05abbcfe29f1"
      },
      "execution_count": null,
      "outputs": [
        {
          "output_type": "stream",
          "name": "stdout",
          "text": [
            "[False False  True  True]\n",
            "[ True  True  True  True]\n",
            "[ True  True False False]\n"
          ]
        }
      ]
    },
    {
      "cell_type": "code",
      "source": [
        "#22.\tNumPy example of Standard Set Operations\n",
        "#Note:The standard set operations union (array of values that are in either of the two input arrays), intersection (unique values that are in both of the input arrays), and difference (unique values in array1 that are not in array2) are provided by np.union1d(), np.intersect1d(), and np.setdiff1d(), respectively.\n",
        "a=np.array([[1,2,3],[4,5,6]])\n",
        "b=np.array([[7,8,9],[10,11,12]])\n",
        "c=np.union1d(a,b)\n",
        "print(c)\n",
        "d=np.intersect1d(a,b)\n",
        "print(d)\n",
        "e=np.setdiff1d(b,a)\n",
        "print(e)"
      ],
      "metadata": {
        "colab": {
          "base_uri": "https://localhost:8080/"
        },
        "id": "R1tp3pRzFkdB",
        "outputId": "b6e47bc1-37f0-4168-e5ba-25c3fc4cef44"
      },
      "execution_count": null,
      "outputs": [
        {
          "output_type": "stream",
          "name": "stdout",
          "text": [
            "[ 1  2  3  4  5  6  7  8  9 10 11 12]\n",
            "[]\n",
            "[ 7  8  9 10 11 12]\n"
          ]
        }
      ]
    }
  ]
}